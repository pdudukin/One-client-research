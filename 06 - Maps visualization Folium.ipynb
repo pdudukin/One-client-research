{
 "cells": [
  {
   "cell_type": "code",
   "execution_count": 31,
   "metadata": {
    "collapsed": true
   },
   "outputs": [],
   "source": [
    "import json\n",
    "from geopandas import GeoDataFrame\n",
    "from shapely.geometry import Polygon, Point, LineString\n",
    "import geopandas as gpd\n",
    "import pandas as pd\n",
    "from datetime import datetime\n",
    "import re\n",
    "\n",
    "import folium\n",
    "from folium import PolyLine\n",
    "from folium.plugins import MarkerCluster"
   ]
  },
  {
   "cell_type": "markdown",
   "metadata": {},
   "source": [
    "### Folium Map"
   ]
  },
  {
   "cell_type": "markdown",
   "metadata": {},
   "source": [
    "Читаю датасет с координатами событий и конвертирую его в json, предварительно объявив его GeoDataFram'ом. С ним намного удобнее работать :)"
   ]
  },
  {
   "cell_type": "code",
   "execution_count": 42,
   "metadata": {
    "collapsed": true
   },
   "outputs": [],
   "source": [
    "event_coords = pd.read_csv('event_coo.csv')\n",
    "geometry = [Point(xy) for xy in zip(event_coords.place_lon, event_coords.place_lat)]\n",
    "event_coords = GeoDataFrame(event_coords, geometry=geometry)\n",
    "json_coords = json.loads(event_coords.to_json())['features']"
   ]
  },
  {
   "cell_type": "markdown",
   "metadata": {},
   "source": [
    "Читаю нужные колонки из сета по событиям"
   ]
  },
  {
   "cell_type": "code",
   "execution_count": 43,
   "metadata": {},
   "outputs": [
    {
     "data": {
      "text/html": [
       "<div>\n",
       "<style>\n",
       "    .dataframe thead tr:only-child th {\n",
       "        text-align: right;\n",
       "    }\n",
       "\n",
       "    .dataframe thead th {\n",
       "        text-align: left;\n",
       "    }\n",
       "\n",
       "    .dataframe tbody tr th {\n",
       "        vertical-align: top;\n",
       "    }\n",
       "</style>\n",
       "<table border=\"1\" class=\"dataframe\">\n",
       "  <thead>\n",
       "    <tr style=\"text-align: right;\">\n",
       "      <th></th>\n",
       "      <th>begin</th>\n",
       "      <th>city</th>\n",
       "      <th>id</th>\n",
       "      <th>name</th>\n",
       "      <th>place</th>\n",
       "      <th>status</th>\n",
       "    </tr>\n",
       "  </thead>\n",
       "  <tbody>\n",
       "    <tr>\n",
       "      <th>0</th>\n",
       "      <td>2013-04-03 12:00:00</td>\n",
       "      <td>Каменец-Подольский</td>\n",
       "      <td>61435</td>\n",
       "      <td>Деловая игра \"Железный предприниматель\" Камене...</td>\n",
       "      <td>Место и адрес проведения уточняются.</td>\n",
       "      <td>ok</td>\n",
       "    </tr>\n",
       "    <tr>\n",
       "      <th>1</th>\n",
       "      <td>2013-04-06 15:00:00</td>\n",
       "      <td>Москва</td>\n",
       "      <td>61436</td>\n",
       "      <td>Лекция Елизаветы Муратовой «Фотокомпозиция, цв...</td>\n",
       "      <td>ул. Большая Полянка, 65/74, стр. 1. FAQcafe</td>\n",
       "      <td>ok</td>\n",
       "    </tr>\n",
       "  </tbody>\n",
       "</table>\n",
       "</div>"
      ],
      "text/plain": [
       "                 begin                city     id  \\\n",
       "0  2013-04-03 12:00:00  Каменец-Подольский  61435   \n",
       "1  2013-04-06 15:00:00              Москва  61436   \n",
       "\n",
       "                                                name  \\\n",
       "0  Деловая игра \"Железный предприниматель\" Камене...   \n",
       "1  Лекция Елизаветы Муратовой «Фотокомпозиция, цв...   \n",
       "\n",
       "                                         place status  \n",
       "0         Место и адрес проведения уточняются.     ok  \n",
       "1  ул. Большая Полянка, 65/74, стр. 1. FAQcafe     ok  "
      ]
     },
     "execution_count": 43,
     "metadata": {},
     "output_type": "execute_result"
    }
   ],
   "source": [
    "event = pd.read_csv('D:/event.csv', usecols = ['city', 'begin', 'id', 'name', 'place', 'status',])\n",
    "event.head(2)"
   ]
  },
  {
   "cell_type": "markdown",
   "metadata": {},
   "source": [
    "Выбираем Москву (как пример) и мерджим с координатами событий"
   ]
  },
  {
   "cell_type": "code",
   "execution_count": 44,
   "metadata": {
    "collapsed": true
   },
   "outputs": [],
   "source": [
    "event_moscow = event[event.city=='Москва'] # \n",
    "event_moscow = pd.merge(event_moscow, event_coords, how='left', left_on='id', right_on='event_id')"
   ]
  },
  {
   "cell_type": "code",
   "execution_count": 45,
   "metadata": {},
   "outputs": [],
   "source": [
    "#event_moscow = event_moscow.set_index('id')"
   ]
  },
  {
   "cell_type": "code",
   "execution_count": 46,
   "metadata": {},
   "outputs": [
    {
     "data": {
      "text/html": [
       "<div>\n",
       "<style>\n",
       "    .dataframe thead tr:only-child th {\n",
       "        text-align: right;\n",
       "    }\n",
       "\n",
       "    .dataframe thead th {\n",
       "        text-align: left;\n",
       "    }\n",
       "\n",
       "    .dataframe tbody tr th {\n",
       "        vertical-align: top;\n",
       "    }\n",
       "</style>\n",
       "<table border=\"1\" class=\"dataframe\">\n",
       "  <thead>\n",
       "    <tr style=\"text-align: right;\">\n",
       "      <th></th>\n",
       "      <th>begin</th>\n",
       "      <th>city</th>\n",
       "      <th>id</th>\n",
       "      <th>name</th>\n",
       "      <th>place</th>\n",
       "      <th>status</th>\n",
       "      <th>event_id</th>\n",
       "      <th>place_lat</th>\n",
       "      <th>place_lon</th>\n",
       "      <th>subw_lat</th>\n",
       "      <th>subw_lon</th>\n",
       "      <th>geometry</th>\n",
       "    </tr>\n",
       "  </thead>\n",
       "  <tbody>\n",
       "    <tr>\n",
       "      <th>0</th>\n",
       "      <td>2013-04-06 15:00:00</td>\n",
       "      <td>Москва</td>\n",
       "      <td>61436</td>\n",
       "      <td>Лекция Елизаветы Муратовой «Фотокомпозиция, цв...</td>\n",
       "      <td>ул. Большая Полянка, 65/74, стр. 1. FAQcafe</td>\n",
       "      <td>ok</td>\n",
       "      <td>NaN</td>\n",
       "      <td>NaN</td>\n",
       "      <td>NaN</td>\n",
       "      <td>NaN</td>\n",
       "      <td>NaN</td>\n",
       "      <td>NaN</td>\n",
       "    </tr>\n",
       "    <tr>\n",
       "      <th>1</th>\n",
       "      <td>2013-03-29 12:00:00</td>\n",
       "      <td>Москва</td>\n",
       "      <td>61439</td>\n",
       "      <td>Встреча с пайщиками</td>\n",
       "      <td>ул.Сущевская, д.21, подъезд 2, 3 этаж, офис 2,...</td>\n",
       "      <td>ok</td>\n",
       "      <td>NaN</td>\n",
       "      <td>NaN</td>\n",
       "      <td>NaN</td>\n",
       "      <td>NaN</td>\n",
       "      <td>NaN</td>\n",
       "      <td>NaN</td>\n",
       "    </tr>\n",
       "    <tr>\n",
       "      <th>2</th>\n",
       "      <td>2013-04-03 12:00:00</td>\n",
       "      <td>Москва</td>\n",
       "      <td>61440</td>\n",
       "      <td>Встреча с пайщиками</td>\n",
       "      <td>ул.Сущевская, д.21, подъезд 2, 3 этаж, офис 2,...</td>\n",
       "      <td>ok</td>\n",
       "      <td>61440.0</td>\n",
       "      <td>55.78231</td>\n",
       "      <td>37.600494</td>\n",
       "      <td>55.781788</td>\n",
       "      <td>37.598736</td>\n",
       "      <td>POINT (37.60049438476563 55.78231048583984)</td>\n",
       "    </tr>\n",
       "    <tr>\n",
       "      <th>3</th>\n",
       "      <td>2013-04-06 14:00:00</td>\n",
       "      <td>Москва</td>\n",
       "      <td>61444</td>\n",
       "      <td>Сказка о потерянном времени!</td>\n",
       "      <td>Старый Арбат</td>\n",
       "      <td>ok</td>\n",
       "      <td>NaN</td>\n",
       "      <td>NaN</td>\n",
       "      <td>NaN</td>\n",
       "      <td>NaN</td>\n",
       "      <td>NaN</td>\n",
       "      <td>NaN</td>\n",
       "    </tr>\n",
       "    <tr>\n",
       "      <th>4</th>\n",
       "      <td>2013-04-08 19:00:00</td>\n",
       "      <td>Москва</td>\n",
       "      <td>61453</td>\n",
       "      <td>Игорь Оболенский. Украсть Пиросмани</td>\n",
       "      <td>ул. Дружинниковская, 11/2</td>\n",
       "      <td>ok</td>\n",
       "      <td>61453.0</td>\n",
       "      <td>55.75753</td>\n",
       "      <td>37.575027</td>\n",
       "      <td>55.760212</td>\n",
       "      <td>37.577209</td>\n",
       "      <td>POINT (37.57502746582031 55.75753021240234)</td>\n",
       "    </tr>\n",
       "  </tbody>\n",
       "</table>\n",
       "</div>"
      ],
      "text/plain": [
       "                 begin    city     id  \\\n",
       "0  2013-04-06 15:00:00  Москва  61436   \n",
       "1  2013-03-29 12:00:00  Москва  61439   \n",
       "2  2013-04-03 12:00:00  Москва  61440   \n",
       "3  2013-04-06 14:00:00  Москва  61444   \n",
       "4  2013-04-08 19:00:00  Москва  61453   \n",
       "\n",
       "                                                name  \\\n",
       "0  Лекция Елизаветы Муратовой «Фотокомпозиция, цв...   \n",
       "1                                Встреча с пайщиками   \n",
       "2                                Встреча с пайщиками   \n",
       "3                       Сказка о потерянном времени!   \n",
       "4                Игорь Оболенский. Украсть Пиросмани   \n",
       "\n",
       "                                               place status  event_id  \\\n",
       "0        ул. Большая Полянка, 65/74, стр. 1. FAQcafe     ok       NaN   \n",
       "1  ул.Сущевская, д.21, подъезд 2, 3 этаж, офис 2,...     ok       NaN   \n",
       "2  ул.Сущевская, д.21, подъезд 2, 3 этаж, офис 2,...     ok   61440.0   \n",
       "3                                       Старый Арбат     ok       NaN   \n",
       "4                          ул. Дружинниковская, 11/2     ok   61453.0   \n",
       "\n",
       "   place_lat  place_lon   subw_lat   subw_lon  \\\n",
       "0        NaN        NaN        NaN        NaN   \n",
       "1        NaN        NaN        NaN        NaN   \n",
       "2   55.78231  37.600494  55.781788  37.598736   \n",
       "3        NaN        NaN        NaN        NaN   \n",
       "4   55.75753  37.575027  55.760212  37.577209   \n",
       "\n",
       "                                      geometry  \n",
       "0                                          NaN  \n",
       "1                                          NaN  \n",
       "2  POINT (37.60049438476563 55.78231048583984)  \n",
       "3                                          NaN  \n",
       "4  POINT (37.57502746582031 55.75753021240234)  "
      ]
     },
     "execution_count": 46,
     "metadata": {},
     "output_type": "execute_result"
    }
   ],
   "source": [
    "event_moscow.head()"
   ]
  },
  {
   "cell_type": "code",
   "execution_count": 47,
   "metadata": {},
   "outputs": [],
   "source": [
    "cols = ['id'\n",
    "        ,'city'\n",
    "        ,'begin'\n",
    "        ,'name'\n",
    "        ,'place'\n",
    "        ,'place_lat'\n",
    "        ,'place_lon'\n",
    "        ,'geometry'\n",
    "        ]\n",
    "\n",
    "event_moscow = event_moscow[cols]\n",
    "#json_event_moscow = GeoDataFrame(event_moscow[cols].to_json())"
   ]
  },
  {
   "cell_type": "markdown",
   "metadata": {},
   "source": [
    "Дропнем все значения, где не были записаны координаты, такие точки нас не интересуют"
   ]
  },
  {
   "cell_type": "code",
   "execution_count": 48,
   "metadata": {},
   "outputs": [
    {
     "data": {
      "text/html": [
       "<div>\n",
       "<style>\n",
       "    .dataframe thead tr:only-child th {\n",
       "        text-align: right;\n",
       "    }\n",
       "\n",
       "    .dataframe thead th {\n",
       "        text-align: left;\n",
       "    }\n",
       "\n",
       "    .dataframe tbody tr th {\n",
       "        vertical-align: top;\n",
       "    }\n",
       "</style>\n",
       "<table border=\"1\" class=\"dataframe\">\n",
       "  <thead>\n",
       "    <tr style=\"text-align: right;\">\n",
       "      <th></th>\n",
       "      <th>id</th>\n",
       "      <th>city</th>\n",
       "      <th>begin</th>\n",
       "      <th>name</th>\n",
       "      <th>place</th>\n",
       "      <th>place_lat</th>\n",
       "      <th>place_lon</th>\n",
       "      <th>geometry</th>\n",
       "    </tr>\n",
       "  </thead>\n",
       "  <tbody>\n",
       "    <tr>\n",
       "      <th>2</th>\n",
       "      <td>61440</td>\n",
       "      <td>Москва</td>\n",
       "      <td>2013-04-03 12:00:00</td>\n",
       "      <td>Встреча с пайщиками</td>\n",
       "      <td>ул.Сущевская, д.21, подъезд 2, 3 этаж, офис 2,...</td>\n",
       "      <td>55.78231</td>\n",
       "      <td>37.600494</td>\n",
       "      <td>POINT (37.60049438476563 55.78231048583984)</td>\n",
       "    </tr>\n",
       "    <tr>\n",
       "      <th>4</th>\n",
       "      <td>61453</td>\n",
       "      <td>Москва</td>\n",
       "      <td>2013-04-08 19:00:00</td>\n",
       "      <td>Игорь Оболенский. Украсть Пиросмани</td>\n",
       "      <td>ул. Дружинниковская, 11/2</td>\n",
       "      <td>55.75753</td>\n",
       "      <td>37.575027</td>\n",
       "      <td>POINT (37.57502746582031 55.75753021240234)</td>\n",
       "    </tr>\n",
       "  </tbody>\n",
       "</table>\n",
       "</div>"
      ],
      "text/plain": [
       "      id    city                begin                                 name  \\\n",
       "2  61440  Москва  2013-04-03 12:00:00                  Встреча с пайщиками   \n",
       "4  61453  Москва  2013-04-08 19:00:00  Игорь Оболенский. Украсть Пиросмани   \n",
       "\n",
       "                                               place  place_lat  place_lon  \\\n",
       "2  ул.Сущевская, д.21, подъезд 2, 3 этаж, офис 2,...   55.78231  37.600494   \n",
       "4                          ул. Дружинниковская, 11/2   55.75753  37.575027   \n",
       "\n",
       "                                      geometry  \n",
       "2  POINT (37.60049438476563 55.78231048583984)  \n",
       "4  POINT (37.57502746582031 55.75753021240234)  "
      ]
     },
     "execution_count": 48,
     "metadata": {},
     "output_type": "execute_result"
    }
   ],
   "source": [
    "event_moscow = event_moscow.dropna(subset=['geometry'], how='all')\n",
    "event_moscow.head(2)"
   ]
  },
  {
   "cell_type": "markdown",
   "metadata": {},
   "source": [
    "У json'a созданного выше есть свои id, а внутри блоков запрятан event_id. Создадим словарь event_id -> json_id. Пригодится при рисовании карты"
   ]
  },
  {
   "cell_type": "code",
   "execution_count": 49,
   "metadata": {
    "collapsed": true
   },
   "outputs": [],
   "source": [
    "json_ids = []\n",
    "event_ids = []\n",
    "for id in range(len(json_coords)):\n",
    "    json_ids.append(int(json_coords[id]['id']))\n",
    "    event_ids.append(int(json_coords[id]['properties']['event_id']))\n",
    "id_map_dict = dict(zip(event_ids,json_ids))"
   ]
  },
  {
   "cell_type": "markdown",
   "metadata": {},
   "source": [
    "Создаем карту с центром в центра Москвы, выбираем 999 событий и делаем + строим их кластеризацию. \n",
    "Всплывающее окно представляет собой html вставку и по-хорошему надо все значки типа кавычек и др. заключать в соответствующие теги. Для просто ты я просто убрал все символы кроме букв.\n",
    "\n",
    "Карта готова. :)"
   ]
  },
  {
   "cell_type": "code",
   "execution_count": 50,
   "metadata": {},
   "outputs": [
    {
     "ename": "NameError",
     "evalue": "name 'moscow_json' is not defined",
     "output_type": "error",
     "traceback": [
      "\u001b[1;31m---------------------------------------------------------------------------\u001b[0m",
      "\u001b[1;31mNameError\u001b[0m                                 Traceback (most recent call last)",
      "\u001b[1;32m<ipython-input-50-4d5b6f32c3d0>\u001b[0m in \u001b[0;36m<module>\u001b[1;34m()\u001b[0m\n\u001b[0;32m     31\u001b[0m                  ).add_to(marker_cluster)\n\u001b[0;32m     32\u001b[0m \u001b[1;33m\u001b[0m\u001b[0m\n\u001b[1;32m---> 33\u001b[1;33m \u001b[1;32mfor\u001b[0m \u001b[0mmoscow_region\u001b[0m \u001b[1;32min\u001b[0m \u001b[0mmoscow_json\u001b[0m\u001b[1;33m:\u001b[0m\u001b[1;33m\u001b[0m\u001b[0m\n\u001b[0m\u001b[0;32m     34\u001b[0m     \u001b[0mlocations\u001b[0m \u001b[1;33m=\u001b[0m \u001b[0mmoscow_region\u001b[0m\u001b[1;33m[\u001b[0m\u001b[1;34m'geometry'\u001b[0m\u001b[1;33m]\u001b[0m\u001b[1;33m[\u001b[0m\u001b[1;34m'coordinates'\u001b[0m\u001b[1;33m]\u001b[0m\u001b[1;33m\u001b[0m\u001b[0m\n\u001b[0;32m     35\u001b[0m     \u001b[0madm_unit\u001b[0m \u001b[1;33m=\u001b[0m \u001b[0mmoscow_region\u001b[0m\u001b[1;33m[\u001b[0m\u001b[1;34m'properties'\u001b[0m\u001b[1;33m]\u001b[0m\u001b[1;33m[\u001b[0m\u001b[1;34m'OKRUGS_RUS'\u001b[0m\u001b[1;33m]\u001b[0m\u001b[1;33m\u001b[0m\u001b[0m\n",
      "\u001b[1;31mNameError\u001b[0m: name 'moscow_json' is not defined"
     ]
    }
   ],
   "source": [
    "m = folium.Map(location=[55.764414, 37.647859], zoom_start=10)\n",
    "marker_cluster = MarkerCluster().add_to(m)\n",
    "num_events = 1000\n",
    "for event_id in list(event_moscow.id.values[:num_events]):\n",
    "\n",
    "    name = re.sub('\\W+',' ',event_moscow[event_moscow.id==event_id].name.values[0])\n",
    "    try:\n",
    "        place = re.sub('\\W+',' ',event_moscow[event_moscow.id==event_id].place.values[0])\n",
    "    except:\n",
    "        place = '-'\n",
    "    city = event_moscow[event_moscow.id==event_id].city.values[0]\n",
    "    date = event_moscow[event_moscow.id==event_id].begin.values[0]\n",
    "    latitude = event_moscow[event_moscow.id==event_id].place_lon.values[0]\n",
    "    longitude = event_moscow[event_moscow.id==event_id].place_lat.values[0]\n",
    "    \n",
    "    #print(city, place, date, name, latitude, longitude)\n",
    "    event_description = folium.Html(\"\"\"\n",
    "    <b>Город</b>: {} \n",
    "    <br><b>Адрес</b>: {} \n",
    "    <br><b>Дата</b>: {} \n",
    "    <br><br><b>Описание</b>: {} \n",
    "    <br><br><b>Широта</b>: {} \n",
    "    <br><b>Долгота</b>: {} \"\"\".format(city, place, date, name, latitude, longitude), script=True)\n",
    "    \n",
    "    popup = folium.Popup(event_description, max_width=2650)\n",
    "    json_id = id_map_dict[event_id]\n",
    "    folium.Marker(list(reversed(json_coords[json_id]['geometry']['coordinates'])), \n",
    "                        popup=popup, \n",
    "                 #       radius=1, \n",
    "                 #       color='#000000'\n",
    "                 ).add_to(marker_cluster)\n",
    "    \n",
    "for moscow_region in moscow_json:\n",
    "    locations = moscow_region['geometry']['coordinates']\n",
    "    adm_unit = moscow_region['properties']['OKRUGS_RUS']\n",
    "    for subregion in locations:\n",
    "        if len(locations)==1: # Single polygon\n",
    "            folium.PolyLine(\n",
    "            locations=[list(reversed(x)) for x in subregion],\n",
    "            color=dict_colors[adm_unit],\n",
    "            weight=1,\n",
    "            fill_color=dict_colors[adm_unit],\n",
    "            fill_opacity=0.2,\n",
    "            fill=True,\n",
    "            popup=moscow_region['properties']['RAION_RUS'],\n",
    "        ).add_to(m)\n",
    "        else: # Multi polygons\n",
    "            folium.PolyLine(\n",
    "            locations=[list(reversed(x)) for x in subregion[0]],\n",
    "            color=dict_colors[adm_unit],\n",
    "            weight=1,\n",
    "            fill_color=dict_colors[adm_unit],\n",
    "            fill_opacity=0.2,\n",
    "            fill=True,\n",
    "            popup=moscow_region['properties']['RAION_RUS'],\n",
    "        ).add_to(m)\n",
    "\n",
    "m.save('Moscow Events Map Top-'+str(num_events)+'.html')\n",
    "m"
   ]
  },
  {
   "cell_type": "markdown",
   "metadata": {},
   "source": [
    "### Moscow Regions"
   ]
  },
  {
   "cell_type": "code",
   "execution_count": 8,
   "metadata": {
    "collapsed": true
   },
   "outputs": [],
   "source": [
    "import shapefile\n",
    "from json import dumps"
   ]
  },
  {
   "cell_type": "code",
   "execution_count": 9,
   "metadata": {},
   "outputs": [
    {
     "data": {
      "text/html": [
       "<div>\n",
       "<style>\n",
       "    .dataframe thead tr:only-child th {\n",
       "        text-align: right;\n",
       "    }\n",
       "\n",
       "    .dataframe thead th {\n",
       "        text-align: left;\n",
       "    }\n",
       "\n",
       "    .dataframe tbody tr th {\n",
       "        vertical-align: top;\n",
       "    }\n",
       "</style>\n",
       "<table border=\"1\" class=\"dataframe\">\n",
       "  <thead>\n",
       "    <tr style=\"text-align: right;\">\n",
       "      <th></th>\n",
       "      <th>OKATO</th>\n",
       "      <th>OKTMO</th>\n",
       "      <th>RAION</th>\n",
       "      <th>OKRUGS</th>\n",
       "      <th>geometry</th>\n",
       "    </tr>\n",
       "  </thead>\n",
       "  <tbody>\n",
       "    <tr>\n",
       "      <th>0</th>\n",
       "      <td>45298555</td>\n",
       "      <td>45945000</td>\n",
       "      <td>Poselenie Kievskij</td>\n",
       "      <td>Troitsky</td>\n",
       "      <td>(POLYGON ((36.8031012 55.4408329, 36.8031903 5...</td>\n",
       "    </tr>\n",
       "    <tr>\n",
       "      <th>1</th>\n",
       "      <td>45268595</td>\n",
       "      <td>45328000</td>\n",
       "      <td>Filevskij Park</td>\n",
       "      <td>Western</td>\n",
       "      <td>POLYGON ((37.4276499 55.7482092, 37.4284863 55...</td>\n",
       "    </tr>\n",
       "    <tr>\n",
       "      <th>2</th>\n",
       "      <td>45298567</td>\n",
       "      <td>45954000</td>\n",
       "      <td>Poselenie Novofedorovskoe</td>\n",
       "      <td>Troitsky</td>\n",
       "      <td>POLYGON ((36.8035692 55.4516224, 36.8045117 55...</td>\n",
       "    </tr>\n",
       "    <tr>\n",
       "      <th>3</th>\n",
       "      <td>45298575</td>\n",
       "      <td>45956000</td>\n",
       "      <td>Poselenie Rogovskoe</td>\n",
       "      <td>Troitsky</td>\n",
       "      <td>POLYGON ((36.9372397 55.2413907, 36.9372604 55...</td>\n",
       "    </tr>\n",
       "    <tr>\n",
       "      <th>4</th>\n",
       "      <td>45297568</td>\n",
       "      <td>45953000</td>\n",
       "      <td>Poselenie Mosrentgen</td>\n",
       "      <td>Novomoskovsky</td>\n",
       "      <td>POLYGON ((37.4395575 55.6273129, 37.4401803 55...</td>\n",
       "    </tr>\n",
       "  </tbody>\n",
       "</table>\n",
       "</div>"
      ],
      "text/plain": [
       "      OKATO     OKTMO                      RAION         OKRUGS  \\\n",
       "0  45298555  45945000         Poselenie Kievskij       Troitsky   \n",
       "1  45268595  45328000             Filevskij Park        Western   \n",
       "2  45298567  45954000  Poselenie Novofedorovskoe       Troitsky   \n",
       "3  45298575  45956000        Poselenie Rogovskoe       Troitsky   \n",
       "4  45297568  45953000       Poselenie Mosrentgen  Novomoskovsky   \n",
       "\n",
       "                                            geometry  \n",
       "0  (POLYGON ((36.8031012 55.4408329, 36.8031903 5...  \n",
       "1  POLYGON ((37.4276499 55.7482092, 37.4284863 55...  \n",
       "2  POLYGON ((36.8035692 55.4516224, 36.8045117 55...  \n",
       "3  POLYGON ((36.9372397 55.2413907, 36.9372604 55...  \n",
       "4  POLYGON ((37.4395575 55.6273129, 37.4401803 55...  "
      ]
     },
     "execution_count": 9,
     "metadata": {},
     "output_type": "execute_result"
    }
   ],
   "source": [
    "path = \"./maps/administrative-divisions-of-moscow/moscow_adm.shp\"\n",
    "moscow_shapefile = gpd.read_file(path)\n",
    "moscow_shapefile.head()"
   ]
  },
  {
   "cell_type": "code",
   "execution_count": null,
   "metadata": {
    "collapsed": true
   },
   "outputs": [],
   "source": []
  },
  {
   "cell_type": "code",
   "execution_count": 10,
   "metadata": {},
   "outputs": [
    {
     "ename": "NameError",
     "evalue": "name 'dict_mokrugs_eng_rus' is not defined",
     "output_type": "error",
     "traceback": [
      "\u001b[1;31m---------------------------------------------------------------------------\u001b[0m",
      "\u001b[1;31mNameError\u001b[0m                                 Traceback (most recent call last)",
      "\u001b[1;32m<ipython-input-10-1a4eb1887749>\u001b[0m in \u001b[0;36m<module>\u001b[1;34m()\u001b[0m\n\u001b[1;32m----> 1\u001b[1;33m \u001b[0mdict_mokrugs_eng_rus\u001b[0m\u001b[1;33m\u001b[0m\u001b[0m\n\u001b[0m",
      "\u001b[1;31mNameError\u001b[0m: name 'dict_mokrugs_eng_rus' is not defined"
     ]
    }
   ],
   "source": [
    "dict_mokrugs_eng_rus"
   ]
  },
  {
   "cell_type": "code",
   "execution_count": 11,
   "metadata": {},
   "outputs": [
    {
     "data": {
      "text/plain": [
       "{'Central': 'Центральный',\n",
       " 'Eastern': 'Новомосковский',\n",
       " 'North-Eastern': 'Западный',\n",
       " 'North-Western': 'Южный',\n",
       " 'Northern': 'Зеленоградский',\n",
       " 'Novomoskovsky': 'Восточный',\n",
       " 'South-Eastern': 'Юго-Западный',\n",
       " 'South-Western': 'Северо-Западный',\n",
       " 'Southern': 'Северный',\n",
       " 'Troitsky': 'Троицкий',\n",
       " 'Western': 'Юго-Восточный',\n",
       " 'Zelenogradsky': 'Северо-Восточный'}"
      ]
     },
     "execution_count": 11,
     "metadata": {},
     "output_type": "execute_result"
    }
   ],
   "source": [
    "moscow_okrugs_list = ['Новомосковский', 'Юго-Западный', 'Северо-Восточный', 'Центральный', 'Троицкий',\n",
    "                      'Восточный', 'Юго-Восточный', 'Зеленоградский', 'Южный', 'Северный',  'Северо-Западный', 'Западный']\n",
    "\n",
    "#print(set(moscow_shapefile.OKRUGS))\n",
    "\n",
    "dict_mokrugs_eng_rus = dict(zip(set(moscow_shapefile.OKRUGS), moscow_okrugs_list))\n",
    "dict_mokrugs_eng_rus"
   ]
  },
  {
   "cell_type": "code",
   "execution_count": 12,
   "metadata": {},
   "outputs": [
    {
     "ename": "NameError",
     "evalue": "name 'dict_mregions_eng_rus' is not defined",
     "output_type": "error",
     "traceback": [
      "\u001b[1;31m---------------------------------------------------------------------------\u001b[0m",
      "\u001b[1;31mNameError\u001b[0m                                 Traceback (most recent call last)",
      "\u001b[1;32m<ipython-input-12-db3ec702dfbc>\u001b[0m in \u001b[0;36m<module>\u001b[1;34m()\u001b[0m\n\u001b[0;32m      1\u001b[0m \u001b[0mmoscow_shapefile\u001b[0m\u001b[1;33m[\u001b[0m\u001b[1;34m'OKRUGS_RUS'\u001b[0m\u001b[1;33m]\u001b[0m \u001b[1;33m=\u001b[0m \u001b[0mmoscow_shapefile\u001b[0m\u001b[1;33m[\u001b[0m\u001b[1;34m'OKRUGS'\u001b[0m\u001b[1;33m]\u001b[0m\u001b[1;33m.\u001b[0m\u001b[0mmap\u001b[0m\u001b[1;33m(\u001b[0m\u001b[1;32mlambda\u001b[0m \u001b[0mx\u001b[0m\u001b[1;33m:\u001b[0m \u001b[0mdict_mokrugs_eng_rus\u001b[0m\u001b[1;33m[\u001b[0m\u001b[0mx\u001b[0m\u001b[1;33m]\u001b[0m\u001b[1;33m)\u001b[0m\u001b[1;33m\u001b[0m\u001b[0m\n\u001b[1;32m----> 2\u001b[1;33m \u001b[0mmoscow_shapefile\u001b[0m\u001b[1;33m[\u001b[0m\u001b[1;34m'RAION_RUS'\u001b[0m\u001b[1;33m]\u001b[0m \u001b[1;33m=\u001b[0m \u001b[0mmoscow_shapefile\u001b[0m\u001b[1;33m[\u001b[0m\u001b[1;34m'RAION'\u001b[0m\u001b[1;33m]\u001b[0m\u001b[1;33m.\u001b[0m\u001b[0mmap\u001b[0m\u001b[1;33m(\u001b[0m\u001b[1;32mlambda\u001b[0m \u001b[0mx\u001b[0m\u001b[1;33m:\u001b[0m \u001b[0mdict_mregions_eng_rus\u001b[0m\u001b[1;33m[\u001b[0m\u001b[0mx\u001b[0m\u001b[1;33m]\u001b[0m\u001b[1;33m)\u001b[0m\u001b[1;33m\u001b[0m\u001b[0m\n\u001b[0m\u001b[0;32m      3\u001b[0m \u001b[0mmoscow_shapefile\u001b[0m\u001b[1;33m.\u001b[0m\u001b[0mhead\u001b[0m\u001b[1;33m(\u001b[0m\u001b[1;33m)\u001b[0m\u001b[1;33m\u001b[0m\u001b[0m\n",
      "\u001b[1;32m~\\Anaconda3\\lib\\site-packages\\pandas\\core\\series.py\u001b[0m in \u001b[0;36mmap\u001b[1;34m(self, arg, na_action)\u001b[0m\n\u001b[0;32m   2156\u001b[0m         \u001b[1;32melse\u001b[0m\u001b[1;33m:\u001b[0m\u001b[1;33m\u001b[0m\u001b[0m\n\u001b[0;32m   2157\u001b[0m             \u001b[1;31m# arg is a function\u001b[0m\u001b[1;33m\u001b[0m\u001b[1;33m\u001b[0m\u001b[0m\n\u001b[1;32m-> 2158\u001b[1;33m             \u001b[0mnew_values\u001b[0m \u001b[1;33m=\u001b[0m \u001b[0mmap_f\u001b[0m\u001b[1;33m(\u001b[0m\u001b[0mvalues\u001b[0m\u001b[1;33m,\u001b[0m \u001b[0marg\u001b[0m\u001b[1;33m)\u001b[0m\u001b[1;33m\u001b[0m\u001b[0m\n\u001b[0m\u001b[0;32m   2159\u001b[0m \u001b[1;33m\u001b[0m\u001b[0m\n\u001b[0;32m   2160\u001b[0m         return self._constructor(new_values,\n",
      "\u001b[1;32mpandas\\_libs\\src\\inference.pyx\u001b[0m in \u001b[0;36mpandas._libs.lib.map_infer (pandas\\_libs\\lib.c:66645)\u001b[1;34m()\u001b[0m\n",
      "\u001b[1;32m<ipython-input-12-db3ec702dfbc>\u001b[0m in \u001b[0;36m<lambda>\u001b[1;34m(x)\u001b[0m\n\u001b[0;32m      1\u001b[0m \u001b[0mmoscow_shapefile\u001b[0m\u001b[1;33m[\u001b[0m\u001b[1;34m'OKRUGS_RUS'\u001b[0m\u001b[1;33m]\u001b[0m \u001b[1;33m=\u001b[0m \u001b[0mmoscow_shapefile\u001b[0m\u001b[1;33m[\u001b[0m\u001b[1;34m'OKRUGS'\u001b[0m\u001b[1;33m]\u001b[0m\u001b[1;33m.\u001b[0m\u001b[0mmap\u001b[0m\u001b[1;33m(\u001b[0m\u001b[1;32mlambda\u001b[0m \u001b[0mx\u001b[0m\u001b[1;33m:\u001b[0m \u001b[0mdict_mokrugs_eng_rus\u001b[0m\u001b[1;33m[\u001b[0m\u001b[0mx\u001b[0m\u001b[1;33m]\u001b[0m\u001b[1;33m)\u001b[0m\u001b[1;33m\u001b[0m\u001b[0m\n\u001b[1;32m----> 2\u001b[1;33m \u001b[0mmoscow_shapefile\u001b[0m\u001b[1;33m[\u001b[0m\u001b[1;34m'RAION_RUS'\u001b[0m\u001b[1;33m]\u001b[0m \u001b[1;33m=\u001b[0m \u001b[0mmoscow_shapefile\u001b[0m\u001b[1;33m[\u001b[0m\u001b[1;34m'RAION'\u001b[0m\u001b[1;33m]\u001b[0m\u001b[1;33m.\u001b[0m\u001b[0mmap\u001b[0m\u001b[1;33m(\u001b[0m\u001b[1;32mlambda\u001b[0m \u001b[0mx\u001b[0m\u001b[1;33m:\u001b[0m \u001b[0mdict_mregions_eng_rus\u001b[0m\u001b[1;33m[\u001b[0m\u001b[0mx\u001b[0m\u001b[1;33m]\u001b[0m\u001b[1;33m)\u001b[0m\u001b[1;33m\u001b[0m\u001b[0m\n\u001b[0m\u001b[0;32m      3\u001b[0m \u001b[0mmoscow_shapefile\u001b[0m\u001b[1;33m.\u001b[0m\u001b[0mhead\u001b[0m\u001b[1;33m(\u001b[0m\u001b[1;33m)\u001b[0m\u001b[1;33m\u001b[0m\u001b[0m\n",
      "\u001b[1;31mNameError\u001b[0m: name 'dict_mregions_eng_rus' is not defined"
     ]
    }
   ],
   "source": [
    "moscow_shapefile['OKRUGS_RUS'] = moscow_shapefile['OKRUGS'].map(lambda x: dict_mokrugs_eng_rus[x])\n",
    "moscow_shapefile['RAION_RUS'] = moscow_shapefile['RAION'].map(lambda x: dict_mregions_eng_rus[x])\n",
    "moscow_shapefile.head()"
   ]
  },
  {
   "cell_type": "code",
   "execution_count": 19,
   "metadata": {
    "collapsed": true
   },
   "outputs": [],
   "source": [
    "moscow_json = json.loads(GeoDataFrame(moscow_shapefile).to_json())['features']"
   ]
  },
  {
   "cell_type": "code",
   "execution_count": 20,
   "metadata": {},
   "outputs": [
    {
     "data": {
      "text/plain": [
       "{'geometry': {'coordinates': [[[[36.8031012, 55.4408329],\n",
       "     [36.8031903, 55.4416007],\n",
       "     [36.8035692, 55.4516224],\n",
       "     [36.812528, 55.4513994],\n",
       "     [36.8274471, 55.4513398],\n",
       "     [36.8333688, 55.4513764],\n",
       "     [36.8338034, 55.4516439],\n",
       "     [36.8345763, 55.4512558],\n",
       "     [36.8348594, 55.4514247],\n",
       "     [36.8349932, 55.4514931],\n",
       "     [36.8358013, 55.4511173],\n",
       "     [36.8360591, 55.4511632],\n",
       "     [36.8461554, 55.4510412],\n",
       "     [36.8602864, 55.4508946],\n",
       "     [36.8649423, 55.4506415],\n",
       "     [36.8608407, 55.4492656],\n",
       "     [36.8582649, 55.4478456],\n",
       "     [36.8582898, 55.447659],\n",
       "     [36.8600008, 55.4466656],\n",
       "     [36.8611076, 55.4473042],\n",
       "     [36.8622805, 55.4467128],\n",
       "     [36.8638768, 55.4472018],\n",
       "     [36.8694408, 55.4489425],\n",
       "     [36.8724625, 55.4502245],\n",
       "     [36.8749845, 55.4513839],\n",
       "     [36.8773319, 55.453135],\n",
       "     [36.8804877, 55.4548177],\n",
       "     [36.8822676, 55.455771],\n",
       "     [36.8833225, 55.4551478],\n",
       "     [36.8837761, 55.4554817],\n",
       "     [36.8846681, 55.4551548],\n",
       "     [36.8855977, 55.4548773],\n",
       "     [36.8863281, 55.4552539],\n",
       "     [36.8952465, 55.450465],\n",
       "     [36.8875942, 55.4460139],\n",
       "     [36.8818703, 55.4426547],\n",
       "     [36.8912361, 55.437452],\n",
       "     [36.8915818, 55.4377769],\n",
       "     [36.893413, 55.4368788],\n",
       "     [36.8948019, 55.4377928],\n",
       "     [36.8963369, 55.4389852],\n",
       "     [36.8968637, 55.4392912],\n",
       "     [36.8968237, 55.4387451],\n",
       "     [36.8964101, 55.4380589],\n",
       "     [36.8959156, 55.4369562],\n",
       "     [36.8931806, 55.4285387],\n",
       "     [36.8930385, 55.4281378],\n",
       "     [36.892214, 55.4255804],\n",
       "     [36.8920661, 55.4251213],\n",
       "     [36.8921556, 55.4250135],\n",
       "     [36.8929218, 55.4250569],\n",
       "     [36.8939156, 55.4236071],\n",
       "     [36.8938567, 55.4229336],\n",
       "     [36.8931251, 55.4224349],\n",
       "     [36.8916934, 55.4211121],\n",
       "     [36.8919249, 55.4163998],\n",
       "     [36.892068, 55.4106145],\n",
       "     [36.892487, 55.4102303],\n",
       "     [36.8953439, 55.4078434],\n",
       "     [36.8974602, 55.4060326],\n",
       "     [36.897289, 55.4057843],\n",
       "     [36.8978411, 55.4053155],\n",
       "     [36.9014402, 55.402228],\n",
       "     [36.9016975, 55.4019726],\n",
       "     [36.9016599, 55.4018918],\n",
       "     [36.9037445, 55.4002463],\n",
       "     [36.9042105, 55.3993939],\n",
       "     [36.9042939, 55.3991925],\n",
       "     [36.9043756, 55.3989367],\n",
       "     [36.9046011, 55.3984985],\n",
       "     [36.9049361, 55.3978212],\n",
       "     [36.905001, 55.3975771],\n",
       "     [36.9050214, 55.3974678],\n",
       "     [36.9051339, 55.3973911],\n",
       "     [36.9051533, 55.3973512],\n",
       "     [36.9052789, 55.3973497],\n",
       "     [36.9052676, 55.3971375],\n",
       "     [36.9056722, 55.3966414],\n",
       "     [36.9058245, 55.392973],\n",
       "     [36.9057008, 55.3921492],\n",
       "     [36.9057503, 55.3910598],\n",
       "     [36.9057594, 55.3908605],\n",
       "     [36.9057755, 55.3906733],\n",
       "     [36.9058681, 55.3896065],\n",
       "     [36.9056813, 55.3894557],\n",
       "     [36.9059927, 55.3892795],\n",
       "     [36.9060527, 55.3891022],\n",
       "     [36.9060885, 55.3889279],\n",
       "     [36.9064487, 55.3884621],\n",
       "     [36.9070191, 55.3877243],\n",
       "     [36.9072097, 55.3875265],\n",
       "     [36.908038, 55.3866655],\n",
       "     [36.9085849, 55.3860978],\n",
       "     [36.9086165, 55.3858614],\n",
       "     [36.9099096, 55.3858468],\n",
       "     [36.9123641, 55.385847],\n",
       "     [36.913446, 55.3846883],\n",
       "     [36.9145318, 55.3849421],\n",
       "     [36.9148241, 55.3852584],\n",
       "     [36.9154068, 55.385838],\n",
       "     [36.9148314, 55.3859811],\n",
       "     [36.9144995, 55.3864376],\n",
       "     [36.9144027, 55.3866182],\n",
       "     [36.914388, 55.3873263],\n",
       "     [36.9237377, 55.3857522],\n",
       "     [36.9237051, 55.3855538],\n",
       "     [36.9235417, 55.3845608],\n",
       "     [36.9232996, 55.3833698],\n",
       "     [36.92286, 55.381672],\n",
       "     [36.9243451, 55.3813831],\n",
       "     [36.9256639, 55.3811944],\n",
       "     [36.9268142, 55.3810358],\n",
       "     [36.9285658, 55.3808373],\n",
       "     [36.9294326, 55.3807241],\n",
       "     [36.9333296, 55.3785258],\n",
       "     [36.9368952, 55.3778962],\n",
       "     [36.9372385, 55.3778355],\n",
       "     [36.9375251, 55.3779406],\n",
       "     [36.9378493, 55.3780886],\n",
       "     [36.9380218, 55.378223],\n",
       "     [36.938135, 55.378259],\n",
       "     [36.9383523, 55.378264],\n",
       "     [36.9384511, 55.378274],\n",
       "     [36.9387604, 55.3784687],\n",
       "     [36.9389054, 55.3784744],\n",
       "     [36.938998, 55.3784883],\n",
       "     [36.9390912, 55.3785209],\n",
       "     [36.939216, 55.3786952],\n",
       "     [36.9393834, 55.3787832],\n",
       "     [36.9395425, 55.378815],\n",
       "     [36.9397523, 55.3788012],\n",
       "     [36.9398512, 55.3788038],\n",
       "     [36.9399508, 55.3788363],\n",
       "     [36.9400467, 55.3789325],\n",
       "     [36.9401388, 55.3791223],\n",
       "     [36.9402611, 55.3792293],\n",
       "     [36.9404404, 55.3792797],\n",
       "     [36.9406203, 55.3793451],\n",
       "     [36.9407605, 55.379579],\n",
       "     [36.9408409, 55.3796229],\n",
       "     [36.9409539, 55.3796516],\n",
       "     [36.9412515, 55.3797079],\n",
       "     [36.94148, 55.3797464],\n",
       "     [36.9417081, 55.3797849],\n",
       "     [36.9418876, 55.3798389],\n",
       "     [36.9419976, 55.3799723],\n",
       "     [36.9420574, 55.3801699],\n",
       "     [36.9421094, 55.3803303],\n",
       "     [36.9422175, 55.3804038],\n",
       "     [36.9424643, 55.3805094],\n",
       "     [36.9427682, 55.3805469],\n",
       "     [36.9431181, 55.3805878],\n",
       "     [36.9434391, 55.3807373],\n",
       "     [36.9436847, 55.3807979],\n",
       "     [36.9439298, 55.3808476],\n",
       "     [36.9440911, 55.3809429],\n",
       "     [36.9441597, 55.3810245],\n",
       "     [36.9444425, 55.3812943],\n",
       "     [36.9456781, 55.3813769],\n",
       "     [36.9463375, 55.3814214],\n",
       "     [36.9463628, 55.3819338],\n",
       "     [36.9462919, 55.3837501],\n",
       "     [36.9476495, 55.3840183],\n",
       "     [36.9480387, 55.3840585],\n",
       "     [36.9489448, 55.383842],\n",
       "     [36.950458, 55.3835148],\n",
       "     [36.9505983, 55.3833953],\n",
       "     [36.9523564, 55.3815177],\n",
       "     [36.9540126, 55.3816732],\n",
       "     [36.9566428, 55.3813449],\n",
       "     [36.9536141, 55.3797706],\n",
       "     [36.953013, 55.3762218],\n",
       "     [36.9564788, 55.3734597],\n",
       "     [36.9637211, 55.3678044],\n",
       "     [36.9612597, 55.3641726],\n",
       "     [36.9640825, 55.360593],\n",
       "     [36.9686263, 55.3613102],\n",
       "     [36.9737167, 55.3621136],\n",
       "     [36.9735128, 55.3603249],\n",
       "     [36.9717514, 55.3578985],\n",
       "     [36.9710819, 55.3571299],\n",
       "     [36.9703153, 55.3564],\n",
       "     [36.9700765, 55.3548495],\n",
       "     [36.9702181, 55.3523218],\n",
       "     [36.9724179, 55.3518163],\n",
       "     [36.9740716, 55.3518001],\n",
       "     [36.9768397, 55.350907],\n",
       "     [36.9920089, 55.3464455],\n",
       "     [37.0056066, 55.3423165],\n",
       "     [37.0109934, 55.3407438],\n",
       "     [37.0055734, 55.3370369],\n",
       "     [36.9992522, 55.3330735],\n",
       "     [36.9983642, 55.3320398],\n",
       "     [36.9949851, 55.3335969],\n",
       "     [36.9939059, 55.3328537],\n",
       "     [36.9922185, 55.3326556],\n",
       "     [36.9921832, 55.3317475],\n",
       "     [36.9919601, 55.3303241],\n",
       "     [36.9911649, 55.3303145],\n",
       "     [36.9909735, 55.3289845],\n",
       "     [36.9912774, 55.3275025],\n",
       "     [36.9897115, 55.3276675],\n",
       "     [36.9888423, 55.3265641],\n",
       "     [36.9886949, 55.325333],\n",
       "     [36.9902152, 55.3252964],\n",
       "     [36.9884623, 55.3214103],\n",
       "     [36.9864415, 55.3155888],\n",
       "     [36.9838644, 55.3164982],\n",
       "     [36.9810291, 55.3175455],\n",
       "     [36.9776942, 55.3186451],\n",
       "     [36.9700473, 55.3216217],\n",
       "     [36.9636827, 55.3240984],\n",
       "     [36.9604066, 55.3219045],\n",
       "     [36.94473, 55.3293694],\n",
       "     [36.9466292, 55.3306699],\n",
       "     [36.9442325, 55.3316],\n",
       "     [36.9422175, 55.3325707],\n",
       "     [36.9406172, 55.3342645],\n",
       "     [36.9402706, 55.3342711],\n",
       "     [36.9391706, 55.3366222],\n",
       "     [36.9368876, 55.3365924],\n",
       "     [36.9361926, 55.3388126],\n",
       "     [36.9361867, 55.3390532],\n",
       "     [36.9357751, 55.3411599],\n",
       "     [36.936134, 55.3412569],\n",
       "     [36.935493, 55.3415637],\n",
       "     [36.9194896, 55.3493119],\n",
       "     [36.9162405, 55.3507965],\n",
       "     [36.9156603, 55.3517006],\n",
       "     [36.9161441, 55.3525398],\n",
       "     [36.9151419, 55.3526258],\n",
       "     [36.915176, 55.3528629],\n",
       "     [36.91557, 55.3540344],\n",
       "     [36.9122387, 55.3543218],\n",
       "     [36.909457, 55.3544928],\n",
       "     [36.9069832, 55.3547649],\n",
       "     [36.9047299, 55.3550779],\n",
       "     [36.9029439, 55.3556966],\n",
       "     [36.9031535, 55.3564134],\n",
       "     [36.9040847, 55.3570066],\n",
       "     [36.9016328, 55.3583115],\n",
       "     [36.9014019, 55.3583798],\n",
       "     [36.8879522, 55.3648761],\n",
       "     [36.8721601, 55.3724908],\n",
       "     [36.8560564, 55.3803316],\n",
       "     [36.8629346, 55.3847874],\n",
       "     [36.8482657, 55.3920817],\n",
       "     [36.8549887, 55.3965523],\n",
       "     [36.8618745, 55.4010347],\n",
       "     [36.8455799, 55.4087413],\n",
       "     [36.8342961, 55.4139868],\n",
       "     [36.840391, 55.4175758],\n",
       "     [36.8419298, 55.4186124],\n",
       "     [36.8420879, 55.4186994],\n",
       "     [36.8327628, 55.4203749],\n",
       "     [36.8325854, 55.4204076],\n",
       "     [36.8291041, 55.4209979],\n",
       "     [36.8265397, 55.4214312],\n",
       "     [36.8258145, 55.4214344],\n",
       "     [36.8248774, 55.4220134],\n",
       "     [36.8246559, 55.4222541],\n",
       "     [36.8242945, 55.4226464],\n",
       "     [36.8242744, 55.4228545],\n",
       "     [36.8244641, 55.4231067],\n",
       "     [36.8245509, 55.4233368],\n",
       "     [36.8237061, 55.4234926],\n",
       "     [36.8230683, 55.4236753],\n",
       "     [36.8224488, 55.4240415],\n",
       "     [36.8216071, 55.4247244],\n",
       "     [36.8211988, 55.4252289],\n",
       "     [36.8226024, 55.4248663],\n",
       "     [36.8241, 55.4262054],\n",
       "     [36.8252549, 55.427376],\n",
       "     [36.8260484, 55.4281616],\n",
       "     [36.8265865, 55.4280778],\n",
       "     [36.8267325, 55.4282417],\n",
       "     [36.8272452, 55.4281283],\n",
       "     [36.8277826, 55.428051],\n",
       "     [36.8282363, 55.4286426],\n",
       "     [36.8247808, 55.4290285],\n",
       "     [36.8242994, 55.4285751],\n",
       "     [36.8239519, 55.4286686],\n",
       "     [36.8219237, 55.4292788],\n",
       "     [36.8191279, 55.426764],\n",
       "     [36.8167848, 55.429926],\n",
       "     [36.8164114, 55.429923],\n",
       "     [36.8161343, 55.4302984],\n",
       "     [36.812585, 55.4351069],\n",
       "     [36.8113604, 55.436299],\n",
       "     [36.8031012, 55.4408329]]],\n",
       "   [[[36.9007522, 55.3148568],\n",
       "     [36.9032546, 55.3161103],\n",
       "     [36.9039411, 55.3172336],\n",
       "     [36.9061728, 55.3167452],\n",
       "     [36.909091, 55.3199197],\n",
       "     [36.9096059, 55.322215],\n",
       "     [36.9101209, 55.3261704],\n",
       "     [36.9095202, 55.3270494],\n",
       "     [36.908721, 55.3277717],\n",
       "     [36.9088721, 55.3280627],\n",
       "     [36.9105483, 55.3312901],\n",
       "     [36.9158469, 55.3303256],\n",
       "     [36.9156142, 55.3299301],\n",
       "     [36.9132967, 55.3259751],\n",
       "     [36.9160432, 55.3254868],\n",
       "     [36.9225665, 55.3245102],\n",
       "     [36.9226717, 55.3238557],\n",
       "     [36.9194531, 55.3187037],\n",
       "     [36.9190258, 55.3186713],\n",
       "     [36.9188093, 55.3186548],\n",
       "     [36.9176076, 55.3167744],\n",
       "     [36.9161292, 55.3169894],\n",
       "     [36.9134683, 55.3171847],\n",
       "     [36.9120093, 55.3167452],\n",
       "     [36.9110651, 55.3135704],\n",
       "     [36.9101209, 55.3130331],\n",
       "     [36.9078893, 55.3117143],\n",
       "     [36.9066878, 55.3112747],\n",
       "     [36.9029971, 55.3128866],\n",
       "     [36.9012804, 55.3139611],\n",
       "     [36.9007522, 55.3148568]]]],\n",
       "  'type': 'MultiPolygon'},\n",
       " 'id': '0',\n",
       " 'properties': {'OKATO': '45298555',\n",
       "  'OKRUGS': 'Troitsky',\n",
       "  'OKRUGS_RUS': 'Троицкий',\n",
       "  'OKTMO': '45945000',\n",
       "  'RAION': 'Poselenie Kievskij'},\n",
       " 'type': 'Feature'}"
      ]
     },
     "execution_count": 20,
     "metadata": {},
     "output_type": "execute_result"
    }
   ],
   "source": [
    "moscow_json[0]"
   ]
  },
  {
   "cell_type": "code",
   "execution_count": 14,
   "metadata": {
    "collapsed": true
   },
   "outputs": [],
   "source": [
    "def adm_unit_color(adm_unit):\n",
    "    if adm_unit == 'Новомосковский':\n",
    "        color = '#e6194b'\n",
    "    elif adm_unit == 'Юго-Западный':\n",
    "        color = '#3cb44b'\n",
    "    elif adm_unit == 'Северо-Восточный':\n",
    "        color = '#ffe119'\n",
    "    elif adm_unit == 'Центральный':\n",
    "        color = '#0082c8'\n",
    "    elif adm_unit == 'Троицкий':\n",
    "        color = '#f58231'\n",
    "    elif adm_unit == 'Восточный':\n",
    "        color = '#911eb4'\n",
    "    elif adm_unit == 'Юго-Восточный':\n",
    "        color = '#000080'\n",
    "    elif adm_unit == 'Зеленоградский':\n",
    "        color = '#f032e6'\n",
    "    elif adm_unit == 'Южный':\n",
    "        color = '#d2f53c'\n",
    "    elif adm_unit == 'Северный':\n",
    "        color = '#fabebe'\n",
    "    elif adm_unit == 'Северо-Западный':\n",
    "        color = '#008080'\n",
    "    elif adm_unit == 'Западный':\n",
    "        color = '#800000'\n",
    "    return color"
   ]
  },
  {
   "cell_type": "code",
   "execution_count": 15,
   "metadata": {},
   "outputs": [
    {
     "data": {
      "text/plain": [
       "['#fabebe',\n",
       " '#d2f53c',\n",
       " '#3cb44b',\n",
       " '#f58231',\n",
       " '#ffe119',\n",
       " '#008080',\n",
       " '#f032e6',\n",
       " '#0082c8',\n",
       " '#800000',\n",
       " '#e6194b',\n",
       " '#911eb4',\n",
       " '#000080']"
      ]
     },
     "execution_count": 15,
     "metadata": {},
     "output_type": "execute_result"
    }
   ],
   "source": [
    "colors = []\n",
    "for adm_unit in set(moscow_shapefile['OKRUGS_RUS']):\n",
    "    colors.append(adm_unit_color(adm_unit))\n",
    "    \n",
    "colors"
   ]
  },
  {
   "cell_type": "code",
   "execution_count": 16,
   "metadata": {
    "collapsed": true
   },
   "outputs": [],
   "source": [
    "dict_colors = dict(zip( set(moscow_shapefile['OKRUGS_RUS']), colors))"
   ]
  },
  {
   "cell_type": "code",
   "execution_count": 17,
   "metadata": {},
   "outputs": [
    {
     "ename": "NameError",
     "evalue": "name 'moscow_json' is not defined",
     "output_type": "error",
     "traceback": [
      "\u001b[1;31m---------------------------------------------------------------------------\u001b[0m",
      "\u001b[1;31mNameError\u001b[0m                                 Traceback (most recent call last)",
      "\u001b[1;32m<ipython-input-17-590f5af50a87>\u001b[0m in \u001b[0;36m<module>\u001b[1;34m()\u001b[0m\n\u001b[0;32m      1\u001b[0m \u001b[0mm\u001b[0m \u001b[1;33m=\u001b[0m \u001b[0mfolium\u001b[0m\u001b[1;33m.\u001b[0m\u001b[0mMap\u001b[0m\u001b[1;33m(\u001b[0m\u001b[0mlocation\u001b[0m\u001b[1;33m=\u001b[0m\u001b[1;33m[\u001b[0m\u001b[1;36m55.764414\u001b[0m\u001b[1;33m,\u001b[0m \u001b[1;36m37.647859\u001b[0m\u001b[1;33m]\u001b[0m\u001b[1;33m,\u001b[0m \u001b[0mzoom_start\u001b[0m\u001b[1;33m=\u001b[0m\u001b[1;36m10\u001b[0m\u001b[1;33m)\u001b[0m\u001b[1;33m\u001b[0m\u001b[0m\n\u001b[0;32m      2\u001b[0m \u001b[1;33m\u001b[0m\u001b[0m\n\u001b[1;32m----> 3\u001b[1;33m \u001b[1;32mfor\u001b[0m \u001b[0mmoscow_region\u001b[0m \u001b[1;32min\u001b[0m \u001b[0mmoscow_json\u001b[0m\u001b[1;33m:\u001b[0m\u001b[1;33m\u001b[0m\u001b[0m\n\u001b[0m\u001b[0;32m      4\u001b[0m     \u001b[0mlocations\u001b[0m \u001b[1;33m=\u001b[0m \u001b[0mmoscow_region\u001b[0m\u001b[1;33m[\u001b[0m\u001b[1;34m'geometry'\u001b[0m\u001b[1;33m]\u001b[0m\u001b[1;33m[\u001b[0m\u001b[1;34m'coordinates'\u001b[0m\u001b[1;33m]\u001b[0m\u001b[1;33m\u001b[0m\u001b[0m\n\u001b[0;32m      5\u001b[0m     \u001b[0madm_unit\u001b[0m \u001b[1;33m=\u001b[0m \u001b[0mmoscow_region\u001b[0m\u001b[1;33m[\u001b[0m\u001b[1;34m'properties'\u001b[0m\u001b[1;33m]\u001b[0m\u001b[1;33m[\u001b[0m\u001b[1;34m'OKRUGS_RUS'\u001b[0m\u001b[1;33m]\u001b[0m\u001b[1;33m\u001b[0m\u001b[0m\n",
      "\u001b[1;31mNameError\u001b[0m: name 'moscow_json' is not defined"
     ]
    }
   ],
   "source": [
    "m = folium.Map(location=[55.764414, 37.647859], zoom_start=10)\n",
    "\n",
    "for moscow_region in moscow_json:\n",
    "    locations = moscow_region['geometry']['coordinates']\n",
    "    adm_unit = moscow_region['properties']['OKRUGS_RUS']\n",
    "    for subregion in locations:\n",
    "        if len(locations)==1: # Single polygon\n",
    "            folium.PolyLine(\n",
    "            locations=[list(reversed(x)) for x in subregion],\n",
    "            color=dict_colors[adm_unit],\n",
    "            weight=1,\n",
    "            fill_color=dict_colors[adm_unit],\n",
    "            fill_opacity=0.2,\n",
    "            fill=True,\n",
    "            popup=moscow_region['properties']['RAION_RUS'],\n",
    "        ).add_to(m)\n",
    "        else: # Multi polygons\n",
    "            folium.PolyLine(\n",
    "            locations=[list(reversed(x)) for x in subregion[0]],\n",
    "            color=dict_colors[adm_unit],\n",
    "            weight=1,\n",
    "            fill_color=dict_colors[adm_unit],\n",
    "            fill_opacity=0.2,\n",
    "            fill=True,\n",
    "            popup=moscow_region['properties']['RAION_RUS'],\n",
    "        ).add_to(m)\n",
    "    \n",
    "m"
   ]
  },
  {
   "cell_type": "code",
   "execution_count": 105,
   "metadata": {},
   "outputs": [
    {
     "data": {
      "text/html": [
       "<div>\n",
       "<style>\n",
       "    .dataframe thead tr:only-child th {\n",
       "        text-align: right;\n",
       "    }\n",
       "\n",
       "    .dataframe thead th {\n",
       "        text-align: left;\n",
       "    }\n",
       "\n",
       "    .dataframe tbody tr th {\n",
       "        vertical-align: top;\n",
       "    }\n",
       "</style>\n",
       "<table border=\"1\" class=\"dataframe\">\n",
       "  <thead>\n",
       "    <tr style=\"text-align: right;\">\n",
       "      <th></th>\n",
       "      <th>eng_region_name</th>\n",
       "      <th>rus_region_name</th>\n",
       "      <th>adm_unit</th>\n",
       "      <th>area</th>\n",
       "      <th>population_2017</th>\n",
       "      <th>density_pkm</th>\n",
       "    </tr>\n",
       "  </thead>\n",
       "  <tbody>\n",
       "    <tr>\n",
       "      <th>0</th>\n",
       "      <td>Akademicheskoe</td>\n",
       "      <td>Академическое</td>\n",
       "      <td>ЮЗАО</td>\n",
       "      <td>5.83</td>\n",
       "      <td>109127</td>\n",
       "      <td>18718.18</td>\n",
       "    </tr>\n",
       "    <tr>\n",
       "      <th>1</th>\n",
       "      <td>Alekseevskoe</td>\n",
       "      <td>Алексеевское</td>\n",
       "      <td>СВАО</td>\n",
       "      <td>5.29</td>\n",
       "      <td>80339</td>\n",
       "      <td>15186.96</td>\n",
       "    </tr>\n",
       "  </tbody>\n",
       "</table>\n",
       "</div>"
      ],
      "text/plain": [
       "  eng_region_name rus_region_name adm_unit  area  population_2017  density_pkm\n",
       "0  Akademicheskoe   Академическое     ЮЗАО  5.83           109127     18718.18\n",
       "1    Alekseevskoe    Алексеевское     СВАО  5.29            80339     15186.96"
      ]
     },
     "execution_count": 105,
     "metadata": {},
     "output_type": "execute_result"
    }
   ],
   "source": [
    "moscow_regions_stats = pd.read_csv('moscow_regions_stats1.csv', encoding=\"utf-8\", sep = ';')\n",
    "dict_mregions_eng_rus = dict(zip(moscow_regions_stats.eng_region_name.values, moscow_regions_stats.rus_region_name.values))\n",
    "\n",
    "moscow_regions_stats.head(2)"
   ]
  },
  {
   "cell_type": "code",
   "execution_count": 34,
   "metadata": {
    "collapsed": true
   },
   "outputs": [],
   "source": [
    "# read the shapefile\n",
    "reader = shapefile.Reader(\"./maps/administrative-divisions-of-moscow/moscow_adm.shp\")\n",
    "fields = reader.fields[1:]\n",
    "field_names = [field[0] for field in fields]\n",
    "buffer = []\n",
    "for sr in reader.shapeRecords():\n",
    "    atr = dict(zip(field_names, sr.record))\n",
    "    geom = sr.shape.__geo_interface__\n",
    "    buffer.append(dict(type=\"Feature\", geometry=geom, properties=atr)) \n",
    "    \n",
    "# write the GeoJSON file\n",
    "    \n",
    "geojson = open(\"moscow_city.json\", \"w\")\n",
    "geojson.write(dumps({\"type\": \"FeatureCollection\",\"features\": buffer}, indent=2) + \"\\n\")\n",
    "geojson.close()"
   ]
  },
  {
   "cell_type": "code",
   "execution_count": null,
   "metadata": {
    "collapsed": true
   },
   "outputs": [],
   "source": [
    "json_coords = json.loads(event_coords.to_json())['features']"
   ]
  },
  {
   "cell_type": "code",
   "execution_count": 98,
   "metadata": {
    "collapsed": true
   },
   "outputs": [],
   "source": [
    "\n",
    "from matplotlib import colors"
   ]
  },
  {
   "cell_type": "code",
   "execution_count": 107,
   "metadata": {},
   "outputs": [
    {
     "data": {
      "text/plain": [
       "{'Central',\n",
       " 'Eastern',\n",
       " 'North-Eastern',\n",
       " 'North-Western',\n",
       " 'Northern',\n",
       " 'Novomoskovsky',\n",
       " 'South-Eastern',\n",
       " 'South-Western',\n",
       " 'Southern',\n",
       " 'Troitsky',\n",
       " 'Western',\n",
       " 'Zelenogradsky'}"
      ]
     },
     "execution_count": 107,
     "metadata": {},
     "output_type": "execute_result"
    }
   ],
   "source": [
    "set()"
   ]
  },
  {
   "cell_type": "code",
   "execution_count": 93,
   "metadata": {
    "collapsed": true
   },
   "outputs": [],
   "source": [
    "json_test = json.loads(moscow_regions_stats.to_json())"
   ]
  },
  {
   "cell_type": "code",
   "execution_count": 66,
   "metadata": {
    "collapsed": true
   },
   "outputs": [],
   "source": [
    "regions = []\n",
    "for region in moscow_json:\n",
    "    regions.append(region['properties']['RAION'])"
   ]
  },
  {
   "cell_type": "code",
   "execution_count": 68,
   "metadata": {},
   "outputs": [
    {
     "data": {
      "text/plain": [
       "{'Ajeroport',\n",
       " 'Akademicheskoe',\n",
       " 'Alekseevskoe',\n",
       " \"Altuf'evskoe\",\n",
       " 'Arbat',\n",
       " 'Babushkinskoe',\n",
       " 'Basmannoe',\n",
       " 'Begovoe',\n",
       " 'Beskudnikovskoe',\n",
       " 'Bibirevo',\n",
       " 'Birjulevo Vostochnoe',\n",
       " 'Birjulevo Zapadnoe',\n",
       " 'Bogorodskoe',\n",
       " 'Brateevo',\n",
       " 'Butyrskoe',\n",
       " 'Caricyno',\n",
       " 'Cheremushki',\n",
       " \"Chertanovo Central'noe\",\n",
       " 'Chertanovo Juzhnoe',\n",
       " 'Chertanovo Severnoe',\n",
       " 'Danilovskoe',\n",
       " 'Dmitrovskoe',\n",
       " 'Donskoe',\n",
       " 'Dorogomilovo',\n",
       " 'Filevskij Park',\n",
       " 'Fili Davydkovo',\n",
       " 'Gagarinskoe',\n",
       " \"Gol'janovo\",\n",
       " 'Golovinskoe',\n",
       " 'Hamovniki',\n",
       " 'Horoshevo-Mnevniki',\n",
       " 'Horoshevskoe',\n",
       " 'Hovrino',\n",
       " 'Ivanovskoe',\n",
       " 'Izmajlovo',\n",
       " 'Jakimanka',\n",
       " 'Jaroslavskoe',\n",
       " 'Jasenevo',\n",
       " 'Juzhnoe Butovo',\n",
       " 'Juzhnoe Medvedkovo',\n",
       " 'Juzhnoe Tushino',\n",
       " 'Juzhnoportovoe',\n",
       " 'Kapotnja',\n",
       " \"Kon'kovo\",\n",
       " 'Koptevo',\n",
       " 'Kosino-Uhtomskoe',\n",
       " 'Kotlovka',\n",
       " \"Krasnosel'skoe\",\n",
       " 'Krjukovo',\n",
       " 'Krylatskoe',\n",
       " 'Kuncevo',\n",
       " 'Kurkino',\n",
       " \"Kuz'minki\",\n",
       " 'Lefortovo',\n",
       " 'Levoberezhnoe',\n",
       " 'Lianozovo',\n",
       " 'Ljublino',\n",
       " 'Lomonosovskoe',\n",
       " 'Losinoostrovskoe',\n",
       " \"Mar'ina Roshha\",\n",
       " \"Mar'ino\",\n",
       " 'Marfino',\n",
       " 'Matushkino',\n",
       " 'Meshhanskoe',\n",
       " 'Metrogorodok',\n",
       " 'Mitino',\n",
       " 'Molzhaninovskoe',\n",
       " \"Moskvorech'e-Saburovo\",\n",
       " 'Mozhajskoe',\n",
       " 'Nagatino-Sadovniki',\n",
       " 'Nagatinskij Zaton',\n",
       " 'Nagornoe',\n",
       " 'Nekrasovka',\n",
       " 'Nizhegorodskoe',\n",
       " 'Novo-Peredelkino',\n",
       " 'Novogireevo',\n",
       " 'Novokosino',\n",
       " 'Obruchevskoe',\n",
       " 'Ochakovo-Matveevskoe',\n",
       " 'Orehovo-Borisovo Juzhnoe',\n",
       " 'Orehovo-Borisovo Severnoe',\n",
       " 'Ostankinskoe',\n",
       " 'Otradnoe',\n",
       " 'Pechatniki',\n",
       " 'Perovo',\n",
       " 'Pokrovskoe Streshnevo',\n",
       " 'Poselenie Desjonovskoe',\n",
       " 'Poselenie Filimonkovskoe',\n",
       " 'Poselenie Kievskij',\n",
       " 'Poselenie Klenovskoe',\n",
       " 'Poselenie Kokoshkino',\n",
       " 'Poselenie Krasnopahorskoe',\n",
       " 'Poselenie Marushkinskoe',\n",
       " 'Poselenie Mihajlovo-Jarcevskoe',\n",
       " 'Poselenie Moskovskij',\n",
       " 'Poselenie Mosrentgen',\n",
       " 'Poselenie Novofedorovskoe',\n",
       " 'Poselenie Pervomajskoe',\n",
       " 'Poselenie Rjazanovskoe',\n",
       " 'Poselenie Rogovskoe',\n",
       " 'Poselenie Shhapovskoe',\n",
       " 'Poselenie Shherbinka',\n",
       " 'Poselenie Sosenskoe',\n",
       " 'Poselenie Vnukovskoe',\n",
       " 'Poselenie Voronovskoe',\n",
       " 'Poselenie Voskresenskoe',\n",
       " 'Preobrazhenskoe',\n",
       " 'Presnenskoe',\n",
       " 'Prospekt Vernadskogo',\n",
       " 'Ramenki',\n",
       " 'Rjazanskij',\n",
       " 'Rostokino',\n",
       " 'Savelki',\n",
       " 'Savelovskoe',\n",
       " 'Severnoe',\n",
       " 'Severnoe Butovo',\n",
       " 'Severnoe Izmajlovo',\n",
       " 'Severnoe Medvedkovo',\n",
       " 'Severnoe Tushino',\n",
       " 'Shhukino',\n",
       " 'Silino',\n",
       " 'Sokol',\n",
       " \"Sokol'niki\",\n",
       " 'Sokolinaja Gora',\n",
       " 'Solncevo',\n",
       " 'Staroe Krjukovo',\n",
       " 'Strogino',\n",
       " 'Sviblovo',\n",
       " 'Taganskoe',\n",
       " \"Tekstil'shhiki\",\n",
       " 'Teplyj Stan',\n",
       " 'Timirjazevskoe',\n",
       " 'Troickij okrug',\n",
       " 'Troparevo-Nikulino',\n",
       " 'Tverskoe',\n",
       " 'Veshnjaki',\n",
       " 'Vnukovo',\n",
       " 'Vojkovskoe',\n",
       " 'Vostochnoe',\n",
       " 'Vostochnoe Degunino',\n",
       " 'Vostochnoe Izmajlovo',\n",
       " 'Vyhino-Zhulebino',\n",
       " \"Zamoskvorech'e\",\n",
       " 'Zapadnoe Degunino',\n",
       " 'Zjablikovo',\n",
       " 'Zjuzino'}"
      ]
     },
     "execution_count": 68,
     "metadata": {},
     "output_type": "execute_result"
    }
   ],
   "source": [
    "set(regions)"
   ]
  },
  {
   "cell_type": "markdown",
   "metadata": {},
   "source": [
    "### LayerControl + FeatureGroup"
   ]
  },
  {
   "cell_type": "code",
   "execution_count": 182,
   "metadata": {
    "collapsed": true
   },
   "outputs": [],
   "source": [
    "from folium import FeatureGroup, LayerControl, Map, Marker"
   ]
  },
  {
   "cell_type": "code",
   "execution_count": 174,
   "metadata": {},
   "outputs": [
    {
     "data": {
      "text/html": [
       "<div>\n",
       "<style>\n",
       "    .dataframe thead tr:only-child th {\n",
       "        text-align: right;\n",
       "    }\n",
       "\n",
       "    .dataframe thead th {\n",
       "        text-align: left;\n",
       "    }\n",
       "\n",
       "    .dataframe tbody tr th {\n",
       "        vertical-align: top;\n",
       "    }\n",
       "</style>\n",
       "<table border=\"1\" class=\"dataframe\">\n",
       "  <thead>\n",
       "    <tr style=\"text-align: right;\">\n",
       "      <th></th>\n",
       "      <th>begin</th>\n",
       "      <th>city</th>\n",
       "      <th>id</th>\n",
       "      <th>name</th>\n",
       "      <th>place</th>\n",
       "      <th>status</th>\n",
       "      <th>event_id</th>\n",
       "      <th>place_lat</th>\n",
       "      <th>place_lon</th>\n",
       "      <th>subw_lat</th>\n",
       "      <th>subw_lon</th>\n",
       "      <th>geometry</th>\n",
       "    </tr>\n",
       "  </thead>\n",
       "  <tbody>\n",
       "    <tr>\n",
       "      <th>2</th>\n",
       "      <td>2013-04-03 12:00:00</td>\n",
       "      <td>Москва</td>\n",
       "      <td>61440</td>\n",
       "      <td>Встреча с пайщиками</td>\n",
       "      <td>ул.Сущевская, д.21, подъезд 2, 3 этаж, офис 2,...</td>\n",
       "      <td>ok</td>\n",
       "      <td>61440.0</td>\n",
       "      <td>55.782310</td>\n",
       "      <td>37.600494</td>\n",
       "      <td>55.781788</td>\n",
       "      <td>37.598736</td>\n",
       "      <td>POINT (37.60049438476563 55.78231048583984)</td>\n",
       "    </tr>\n",
       "    <tr>\n",
       "      <th>4</th>\n",
       "      <td>2013-04-08 19:00:00</td>\n",
       "      <td>Москва</td>\n",
       "      <td>61453</td>\n",
       "      <td>Игорь Оболенский. Украсть Пиросмани</td>\n",
       "      <td>ул. Дружинниковская, 11/2</td>\n",
       "      <td>ok</td>\n",
       "      <td>61453.0</td>\n",
       "      <td>55.757530</td>\n",
       "      <td>37.575027</td>\n",
       "      <td>55.760212</td>\n",
       "      <td>37.577209</td>\n",
       "      <td>POINT (37.57502746582031 55.75753021240234)</td>\n",
       "    </tr>\n",
       "    <tr>\n",
       "      <th>6</th>\n",
       "      <td>2013-03-27 19:00:00</td>\n",
       "      <td>Москва</td>\n",
       "      <td>61456</td>\n",
       "      <td>К 400-летию Дома Романовых: документальное кин...</td>\n",
       "      <td>ул.Каретный ряд, д.5/10</td>\n",
       "      <td>ok</td>\n",
       "      <td>61456.0</td>\n",
       "      <td>55.772678</td>\n",
       "      <td>37.608418</td>\n",
       "      <td>55.765842</td>\n",
       "      <td>37.608166</td>\n",
       "      <td>POINT (37.60841751098633 55.77267837524414)</td>\n",
       "    </tr>\n",
       "    <tr>\n",
       "      <th>7</th>\n",
       "      <td>2013-04-13 10:00:00</td>\n",
       "      <td>Москва</td>\n",
       "      <td>61457</td>\n",
       "      <td>Деловая игра «Управление регионом: почувствуй ...</td>\n",
       "      <td>пр.Вернадского, 82 с3</td>\n",
       "      <td>ok</td>\n",
       "      <td>61457.0</td>\n",
       "      <td>55.668808</td>\n",
       "      <td>37.476753</td>\n",
       "      <td>55.663147</td>\n",
       "      <td>37.482853</td>\n",
       "      <td>POINT (37.47675323486328 55.66880798339844)</td>\n",
       "    </tr>\n",
       "    <tr>\n",
       "      <th>12</th>\n",
       "      <td>2013-03-30 17:30:00</td>\n",
       "      <td>Москва</td>\n",
       "      <td>61473</td>\n",
       "      <td>\"Ангелы и многое другое\" в цикле \"Просто батик...</td>\n",
       "      <td>м.Чистые пруды</td>\n",
       "      <td>ok</td>\n",
       "      <td>61473.0</td>\n",
       "      <td>55.764793</td>\n",
       "      <td>37.638683</td>\n",
       "      <td>55.764793</td>\n",
       "      <td>37.638683</td>\n",
       "      <td>POINT (37.6386833190918 55.7647933959961)</td>\n",
       "    </tr>\n",
       "  </tbody>\n",
       "</table>\n",
       "</div>"
      ],
      "text/plain": [
       "                  begin    city     id  \\\n",
       "2   2013-04-03 12:00:00  Москва  61440   \n",
       "4   2013-04-08 19:00:00  Москва  61453   \n",
       "6   2013-03-27 19:00:00  Москва  61456   \n",
       "7   2013-04-13 10:00:00  Москва  61457   \n",
       "12  2013-03-30 17:30:00  Москва  61473   \n",
       "\n",
       "                                                 name  \\\n",
       "2                                 Встреча с пайщиками   \n",
       "4                 Игорь Оболенский. Украсть Пиросмани   \n",
       "6   К 400-летию Дома Романовых: документальное кин...   \n",
       "7   Деловая игра «Управление регионом: почувствуй ...   \n",
       "12  \"Ангелы и многое другое\" в цикле \"Просто батик...   \n",
       "\n",
       "                                                place status  event_id  \\\n",
       "2   ул.Сущевская, д.21, подъезд 2, 3 этаж, офис 2,...     ok   61440.0   \n",
       "4                           ул. Дружинниковская, 11/2     ok   61453.0   \n",
       "6                             ул.Каретный ряд, д.5/10     ok   61456.0   \n",
       "7                               пр.Вернадского, 82 с3     ok   61457.0   \n",
       "12                                     м.Чистые пруды     ok   61473.0   \n",
       "\n",
       "    place_lat  place_lon   subw_lat   subw_lon  \\\n",
       "2   55.782310  37.600494  55.781788  37.598736   \n",
       "4   55.757530  37.575027  55.760212  37.577209   \n",
       "6   55.772678  37.608418  55.765842  37.608166   \n",
       "7   55.668808  37.476753  55.663147  37.482853   \n",
       "12  55.764793  37.638683  55.764793  37.638683   \n",
       "\n",
       "                                       geometry  \n",
       "2   POINT (37.60049438476563 55.78231048583984)  \n",
       "4   POINT (37.57502746582031 55.75753021240234)  \n",
       "6   POINT (37.60841751098633 55.77267837524414)  \n",
       "7   POINT (37.47675323486328 55.66880798339844)  \n",
       "12    POINT (37.6386833190918 55.7647933959961)  "
      ]
     },
     "execution_count": 174,
     "metadata": {},
     "output_type": "execute_result"
    }
   ],
   "source": [
    "event_moscow.head()"
   ]
  },
  {
   "cell_type": "code",
   "execution_count": 177,
   "metadata": {},
   "outputs": [
    {
     "name": "stdout",
     "output_type": "stream",
     "text": [
      "<class 'str'>\n"
     ]
    }
   ],
   "source": [
    "print(type(event_moscow.begin.values[0]))"
   ]
  },
  {
   "cell_type": "code",
   "execution_count": 178,
   "metadata": {},
   "outputs": [
    {
     "data": {
      "text/plain": [
       "(236659, 12)"
      ]
     },
     "execution_count": 178,
     "metadata": {},
     "output_type": "execute_result"
    }
   ],
   "source": [
    "event_moscow.shape"
   ]
  },
  {
   "cell_type": "code",
   "execution_count": 179,
   "metadata": {
    "collapsed": true
   },
   "outputs": [],
   "source": [
    "event_moscow['year'] = event_moscow['begin'].map(lambda x: x[:4])"
   ]
  },
  {
   "cell_type": "code",
   "execution_count": 180,
   "metadata": {},
   "outputs": [
    {
     "data": {
      "text/html": [
       "<div>\n",
       "<style>\n",
       "    .dataframe thead tr:only-child th {\n",
       "        text-align: right;\n",
       "    }\n",
       "\n",
       "    .dataframe thead th {\n",
       "        text-align: left;\n",
       "    }\n",
       "\n",
       "    .dataframe tbody tr th {\n",
       "        vertical-align: top;\n",
       "    }\n",
       "</style>\n",
       "<table border=\"1\" class=\"dataframe\">\n",
       "  <thead>\n",
       "    <tr style=\"text-align: right;\">\n",
       "      <th></th>\n",
       "      <th>begin</th>\n",
       "      <th>city</th>\n",
       "      <th>id</th>\n",
       "      <th>name</th>\n",
       "      <th>place</th>\n",
       "      <th>status</th>\n",
       "      <th>event_id</th>\n",
       "      <th>place_lat</th>\n",
       "      <th>place_lon</th>\n",
       "      <th>subw_lat</th>\n",
       "      <th>subw_lon</th>\n",
       "      <th>geometry</th>\n",
       "      <th>year</th>\n",
       "    </tr>\n",
       "  </thead>\n",
       "  <tbody>\n",
       "    <tr>\n",
       "      <th>2</th>\n",
       "      <td>2013-04-03 12:00:00</td>\n",
       "      <td>Москва</td>\n",
       "      <td>61440</td>\n",
       "      <td>Встреча с пайщиками</td>\n",
       "      <td>ул.Сущевская, д.21, подъезд 2, 3 этаж, офис 2,...</td>\n",
       "      <td>ok</td>\n",
       "      <td>61440.0</td>\n",
       "      <td>55.782310</td>\n",
       "      <td>37.600494</td>\n",
       "      <td>55.781788</td>\n",
       "      <td>37.598736</td>\n",
       "      <td>POINT (37.60049438476563 55.78231048583984)</td>\n",
       "      <td>2013</td>\n",
       "    </tr>\n",
       "    <tr>\n",
       "      <th>4</th>\n",
       "      <td>2013-04-08 19:00:00</td>\n",
       "      <td>Москва</td>\n",
       "      <td>61453</td>\n",
       "      <td>Игорь Оболенский. Украсть Пиросмани</td>\n",
       "      <td>ул. Дружинниковская, 11/2</td>\n",
       "      <td>ok</td>\n",
       "      <td>61453.0</td>\n",
       "      <td>55.757530</td>\n",
       "      <td>37.575027</td>\n",
       "      <td>55.760212</td>\n",
       "      <td>37.577209</td>\n",
       "      <td>POINT (37.57502746582031 55.75753021240234)</td>\n",
       "      <td>2013</td>\n",
       "    </tr>\n",
       "    <tr>\n",
       "      <th>6</th>\n",
       "      <td>2013-03-27 19:00:00</td>\n",
       "      <td>Москва</td>\n",
       "      <td>61456</td>\n",
       "      <td>К 400-летию Дома Романовых: документальное кин...</td>\n",
       "      <td>ул.Каретный ряд, д.5/10</td>\n",
       "      <td>ok</td>\n",
       "      <td>61456.0</td>\n",
       "      <td>55.772678</td>\n",
       "      <td>37.608418</td>\n",
       "      <td>55.765842</td>\n",
       "      <td>37.608166</td>\n",
       "      <td>POINT (37.60841751098633 55.77267837524414)</td>\n",
       "      <td>2013</td>\n",
       "    </tr>\n",
       "    <tr>\n",
       "      <th>7</th>\n",
       "      <td>2013-04-13 10:00:00</td>\n",
       "      <td>Москва</td>\n",
       "      <td>61457</td>\n",
       "      <td>Деловая игра «Управление регионом: почувствуй ...</td>\n",
       "      <td>пр.Вернадского, 82 с3</td>\n",
       "      <td>ok</td>\n",
       "      <td>61457.0</td>\n",
       "      <td>55.668808</td>\n",
       "      <td>37.476753</td>\n",
       "      <td>55.663147</td>\n",
       "      <td>37.482853</td>\n",
       "      <td>POINT (37.47675323486328 55.66880798339844)</td>\n",
       "      <td>2013</td>\n",
       "    </tr>\n",
       "    <tr>\n",
       "      <th>12</th>\n",
       "      <td>2013-03-30 17:30:00</td>\n",
       "      <td>Москва</td>\n",
       "      <td>61473</td>\n",
       "      <td>\"Ангелы и многое другое\" в цикле \"Просто батик...</td>\n",
       "      <td>м.Чистые пруды</td>\n",
       "      <td>ok</td>\n",
       "      <td>61473.0</td>\n",
       "      <td>55.764793</td>\n",
       "      <td>37.638683</td>\n",
       "      <td>55.764793</td>\n",
       "      <td>37.638683</td>\n",
       "      <td>POINT (37.6386833190918 55.7647933959961)</td>\n",
       "      <td>2013</td>\n",
       "    </tr>\n",
       "  </tbody>\n",
       "</table>\n",
       "</div>"
      ],
      "text/plain": [
       "                  begin    city     id  \\\n",
       "2   2013-04-03 12:00:00  Москва  61440   \n",
       "4   2013-04-08 19:00:00  Москва  61453   \n",
       "6   2013-03-27 19:00:00  Москва  61456   \n",
       "7   2013-04-13 10:00:00  Москва  61457   \n",
       "12  2013-03-30 17:30:00  Москва  61473   \n",
       "\n",
       "                                                 name  \\\n",
       "2                                 Встреча с пайщиками   \n",
       "4                 Игорь Оболенский. Украсть Пиросмани   \n",
       "6   К 400-летию Дома Романовых: документальное кин...   \n",
       "7   Деловая игра «Управление регионом: почувствуй ...   \n",
       "12  \"Ангелы и многое другое\" в цикле \"Просто батик...   \n",
       "\n",
       "                                                place status  event_id  \\\n",
       "2   ул.Сущевская, д.21, подъезд 2, 3 этаж, офис 2,...     ok   61440.0   \n",
       "4                           ул. Дружинниковская, 11/2     ok   61453.0   \n",
       "6                             ул.Каретный ряд, д.5/10     ok   61456.0   \n",
       "7                               пр.Вернадского, 82 с3     ok   61457.0   \n",
       "12                                     м.Чистые пруды     ok   61473.0   \n",
       "\n",
       "    place_lat  place_lon   subw_lat   subw_lon  \\\n",
       "2   55.782310  37.600494  55.781788  37.598736   \n",
       "4   55.757530  37.575027  55.760212  37.577209   \n",
       "6   55.772678  37.608418  55.765842  37.608166   \n",
       "7   55.668808  37.476753  55.663147  37.482853   \n",
       "12  55.764793  37.638683  55.764793  37.638683   \n",
       "\n",
       "                                       geometry  year  \n",
       "2   POINT (37.60049438476563 55.78231048583984)  2013  \n",
       "4   POINT (37.57502746582031 55.75753021240234)  2013  \n",
       "6   POINT (37.60841751098633 55.77267837524414)  2013  \n",
       "7   POINT (37.47675323486328 55.66880798339844)  2013  \n",
       "12    POINT (37.6386833190918 55.7647933959961)  2013  "
      ]
     },
     "execution_count": 180,
     "metadata": {},
     "output_type": "execute_result"
    }
   ],
   "source": [
    "event_moscow.head()"
   ]
  },
  {
   "cell_type": "code",
   "execution_count": 190,
   "metadata": {
    "collapsed": true
   },
   "outputs": [],
   "source": [
    "map = Map(\n",
    "    location=[45.372, -121.6972],\n",
    "    zoom_start=12,\n",
    "    tiles='Stamen Terrain'\n",
    ")\n"
   ]
  },
  {
   "cell_type": "code",
   "execution_count": 191,
   "metadata": {
    "scrolled": true
   },
   "outputs": [
    {
     "data": {
      "text/html": [
       "<div style=\"width:100%;\"><div style=\"position:relative;width:100%;height:0;padding-bottom:60%;\"><iframe src=\"data:text/html;charset=utf-8;base64,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\" style=\"position:absolute;width:100%;height:100%;left:0;top:0;border:none !important;\" allowfullscreen webkitallowfullscreen mozallowfullscreen></iframe></div></div>"
      ],
      "text/plain": [
       "<folium.folium.Map at 0x14d36676f28>"
      ]
     },
     "execution_count": 191,
     "metadata": {},
     "output_type": "execute_result"
    }
   ],
   "source": [
    "feature_group = FeatureGroup(name='One icon')\n",
    "Marker(location=[45.3288, -121.6625],\n",
    "       popup='Mt. Hood Meadows').add_to(feature_group)\n",
    "\n",
    "feature_group1 = FeatureGroup(name='Another icon')\n",
    "Marker(location=[45.3311, -121.7113],\n",
    "       popup='Timberline Lodge').add_to(feature_group1)\n",
    "\n",
    "feature_group.add_to(map)\n",
    "feature_group1.add_to(map)\n",
    "LayerControl().add_to(map)\n",
    "map"
   ]
  },
  {
   "cell_type": "code",
   "execution_count": null,
   "metadata": {
    "collapsed": true
   },
   "outputs": [],
   "source": []
  },
  {
   "cell_type": "code",
   "execution_count": null,
   "metadata": {
    "collapsed": true
   },
   "outputs": [],
   "source": []
  },
  {
   "cell_type": "code",
   "execution_count": 2,
   "metadata": {},
   "outputs": [
    {
     "ename": "AttributeError",
     "evalue": "'Map' object has no attribute 'template_vars'",
     "output_type": "error",
     "traceback": [
      "\u001b[1;31m---------------------------------------------------------------------------\u001b[0m",
      "\u001b[1;31mAttributeError\u001b[0m                            Traceback (most recent call last)",
      "\u001b[1;32m<ipython-input-2-97fa35eaf8df>\u001b[0m in \u001b[0;36m<module>\u001b[1;34m()\u001b[0m\n\u001b[0;32m     67\u001b[0m \u001b[0mm\u001b[0m\u001b[1;33m.\u001b[0m\u001b[0madd_child\u001b[0m\u001b[1;33m(\u001b[0m\u001b[0mtgj\u001b[0m\u001b[1;33m)\u001b[0m\u001b[1;33m\u001b[0m\u001b[0m\n\u001b[0;32m     68\u001b[0m \u001b[0mm\u001b[0m\u001b[1;33m\u001b[0m\u001b[0m\n\u001b[1;32m---> 69\u001b[1;33m \u001b[1;32mdel\u001b[0m \u001b[0mm\u001b[0m\u001b[1;33m.\u001b[0m\u001b[0mtemplate_vars\u001b[0m\u001b[1;33m.\u001b[0m\u001b[0mget\u001b[0m\u001b[1;33m(\u001b[0m\u001b[1;34m'custom_markers'\u001b[0m\u001b[1;33m)\u001b[0m\u001b[1;33m[\u001b[0m\u001b[1;36m0\u001b[0m\u001b[1;33m]\u001b[0m\u001b[1;33m\u001b[0m\u001b[0m\n\u001b[0m",
      "\u001b[1;31mAttributeError\u001b[0m: 'Map' object has no attribute 'template_vars'"
     ]
    }
   ],
   "source": [
    "import folium\n",
    "from folium.plugins import TimestampedGeoJson\n",
    "import numpy as np\n",
    "\n",
    "coordinates = [[[[lon-8*np.sin(theta), -47+6*np.cos(theta)] for\n",
    "                 theta in np.linspace(0, 2*np.pi, 25)],\n",
    "                [[lon-4*np.sin(theta), -47+3*np.cos(theta)] for theta\n",
    "                 in np.linspace(0, 2*np.pi, 25)]] for\n",
    "               lon in np.linspace(-150, 150, 7)]\n",
    "data = {\n",
    "    \"type\": \"FeatureCollection\",\n",
    "    \"features\": [\n",
    "            {\n",
    "                \"type\": \"Feature\",\n",
    "                \"geometry\": {\n",
    "                    \"type\": \"Point\",\n",
    "                    \"coordinates\": [0, 0],\n",
    "                    },\n",
    "                \"properties\": {\n",
    "                    \"times\": [1435708800000+12*86400000]\n",
    "                    }\n",
    "                },\n",
    "        {\n",
    "                \"type\": \"Feature\",\n",
    "                \"geometry\": {\n",
    "                    \"type\": \"Point\",\n",
    "                    \"coordinates\": [-50, 50],\n",
    "                    },\n",
    "                \"properties\": {\n",
    "                    \"times\": [1435708800000]\n",
    "                    }\n",
    "                },\n",
    "            {\n",
    "                \"type\": \"Feature\",\n",
    "                \"geometry\": {\n",
    "                    \"type\": \"MultiPoint\",\n",
    "                    \"coordinates\": [[lon, -25] for\n",
    "                                    lon in np.linspace(-150, 150, 49)],\n",
    "                    },\n",
    "                \"properties\": {\n",
    "                    \"times\": [1435708800000+i*86400000 for\n",
    "                              i in np.linspace(0, 25, 49)]\n",
    "                    }\n",
    "                },\n",
    "            {\n",
    "              \"geometry\": {\n",
    "                \"coordinates\": [\n",
    "                  50.0,\n",
    "                  50.0\n",
    "                ],\n",
    "                \"type\": \"Point\"\n",
    "              },\n",
    "              \"id\": \"1\",\n",
    "              \"properties\": {\"foo\": \"bar\"},\n",
    "              \"type\": \"Feature\",\n",
    "              \"when\": {\n",
    "                \"start\": \"2016-04-24\",\n",
    "                \"end\": \"2016-04-26\",\n",
    "                \"type\": \"Interval\"\n",
    "              }\n",
    "    }\n",
    "        ],\n",
    "    }\n",
    "\n",
    "m = folium.Map([47, 3], zoom_start=1)\n",
    "tgj = TimestampedGeoJson(data, period='P1D')\n",
    "m.add_child(tgj)\n",
    "m\n",
    "del m.template_vars.get('custom_markers')[0]"
   ]
  },
  {
   "cell_type": "code",
   "execution_count": 113,
   "metadata": {
    "collapsed": true
   },
   "outputs": [],
   "source": [
    "def generate_json(first_date):\n",
    "    len = 10\n",
    "    import random\n",
    "    d = {}\n",
    "    lst = [[x*10,y*10] for x,y in zip(range(len),range(len))]\n",
    "    d_cont = {}\n",
    "    d_times = {}\n",
    "    time_list = [1435708800000+i*86400000 for i in range(len)]\n",
    "    d_times['times'] = time_list\n",
    "    d_cont['coordinates'] = lst\n",
    "    d_cont['type'] = 'MultiPoint'\n",
    "    d['geometry'] = d_cont\n",
    "    d['properties'] = d_times\n",
    "    d['type'] = 'Feature'\n",
    "    return d"
   ]
  },
  {
   "cell_type": "code",
   "execution_count": 114,
   "metadata": {},
   "outputs": [
    {
     "data": {
      "text/plain": [
       "{'geometry': {'coordinates': [[0, 0],\n",
       "   [10, 10],\n",
       "   [20, 20],\n",
       "   [30, 30],\n",
       "   [40, 40],\n",
       "   [50, 50],\n",
       "   [60, 60],\n",
       "   [70, 70],\n",
       "   [80, 80],\n",
       "   [90, 90]],\n",
       "  'type': 'MultiPoint'},\n",
       " 'properties': {'times': [1435708800000,\n",
       "   1435795200000,\n",
       "   1435881600000,\n",
       "   1435968000000,\n",
       "   1436054400000,\n",
       "   1436140800000,\n",
       "   1436227200000,\n",
       "   1436313600000,\n",
       "   1436400000000,\n",
       "   1436486400000]},\n",
       " 'type': 'Feature'}"
      ]
     },
     "execution_count": 114,
     "metadata": {},
     "output_type": "execute_result"
    }
   ],
   "source": [
    "generate_json(1)"
   ]
  },
  {
   "cell_type": "code",
   "execution_count": 115,
   "metadata": {},
   "outputs": [
    {
     "data": {
      "text/html": [
       "<div style=\"width:100%;\"><div style=\"position:relative;width:100%;height:0;padding-bottom:60%;\"><iframe src=\"data:text/html;charset=utf-8;base64,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\" style=\"position:absolute;width:100%;height:100%;left:0;top:0;border:none !important;\" allowfullscreen webkitallowfullscreen mozallowfullscreen></iframe></div></div>"
      ],
      "text/plain": [
       "<folium.folium.Map at 0x1a58fd8d668>"
      ]
     },
     "execution_count": 115,
     "metadata": {},
     "output_type": "execute_result"
    }
   ],
   "source": [
    "data1 = generate_json(1)\n",
    "m = folium.Map([47, 3], zoom_start=1)\n",
    "tgj = TimestampedGeoJson(data1, period='P1D')\n",
    "m.add_child(tgj)\n",
    "m"
   ]
  },
  {
   "cell_type": "code",
   "execution_count": 108,
   "metadata": {},
   "outputs": [
    {
     "data": {
      "text/plain": [
       "79"
      ]
     },
     "execution_count": 108,
     "metadata": {},
     "output_type": "execute_result"
    }
   ],
   "source": [
    "import random\n",
    "random.randint(0,100)"
   ]
  },
  {
   "cell_type": "code",
   "execution_count": 25,
   "metadata": {},
   "outputs": [
    {
     "data": {
      "text/plain": [
       "[{'geometry': {'coordinates': [0, 0], 'type': 'Point'},\n",
       "  'properties': {'times': [1436745600000]},\n",
       "  'type': 'Feature'},\n",
       " {'geometry': {'coordinates': [[-150.0, -25],\n",
       "    [-143.75, -25],\n",
       "    [-137.5, -25],\n",
       "    [-131.25, -25],\n",
       "    [-125.0, -25],\n",
       "    [-118.75, -25],\n",
       "    [-112.5, -25],\n",
       "    [-106.25, -25],\n",
       "    [-100.0, -25],\n",
       "    [-93.75, -25],\n",
       "    [-87.5, -25],\n",
       "    [-81.25, -25],\n",
       "    [-75.0, -25],\n",
       "    [-68.75, -25],\n",
       "    [-62.5, -25],\n",
       "    [-56.25, -25],\n",
       "    [-50.0, -25],\n",
       "    [-43.75, -25],\n",
       "    [-37.5, -25],\n",
       "    [-31.25, -25],\n",
       "    [-25.0, -25],\n",
       "    [-18.75, -25],\n",
       "    [-12.5, -25],\n",
       "    [-6.25, -25],\n",
       "    [0.0, -25],\n",
       "    [6.25, -25],\n",
       "    [12.5, -25],\n",
       "    [18.75, -25],\n",
       "    [25.0, -25],\n",
       "    [31.25, -25],\n",
       "    [37.5, -25],\n",
       "    [43.75, -25],\n",
       "    [50.0, -25],\n",
       "    [56.25, -25],\n",
       "    [62.5, -25],\n",
       "    [68.75, -25],\n",
       "    [75.0, -25],\n",
       "    [81.25, -25],\n",
       "    [87.5, -25],\n",
       "    [93.75, -25],\n",
       "    [100.0, -25],\n",
       "    [106.25, -25],\n",
       "    [112.5, -25],\n",
       "    [118.75, -25],\n",
       "    [125.0, -25],\n",
       "    [131.25, -25],\n",
       "    [137.5, -25],\n",
       "    [143.75, -25],\n",
       "    [150.0, -25]],\n",
       "   'type': 'MultiPoint'},\n",
       "  'properties': {'times': [1435708800000.0,\n",
       "    1435753800000.0,\n",
       "    1435798800000.0,\n",
       "    1435843800000.0,\n",
       "    1435888800000.0,\n",
       "    1435933800000.0,\n",
       "    1435978800000.0,\n",
       "    1436023800000.0,\n",
       "    1436068800000.0,\n",
       "    1436113800000.0,\n",
       "    1436158800000.0,\n",
       "    1436203800000.0,\n",
       "    1436248800000.0,\n",
       "    1436293800000.0,\n",
       "    1436338800000.0,\n",
       "    1436383800000.0,\n",
       "    1436428800000.0,\n",
       "    1436473800000.0,\n",
       "    1436518800000.0,\n",
       "    1436563800000.0,\n",
       "    1436608800000.0,\n",
       "    1436653800000.0,\n",
       "    1436698800000.0,\n",
       "    1436743800000.0,\n",
       "    1436788800000.0,\n",
       "    1436833800000.0,\n",
       "    1436878800000.0,\n",
       "    1436923800000.0,\n",
       "    1436968800000.0,\n",
       "    1437013800000.0,\n",
       "    1437058800000.0,\n",
       "    1437103800000.0,\n",
       "    1437148800000.0,\n",
       "    1437193800000.0,\n",
       "    1437238800000.0,\n",
       "    1437283800000.0,\n",
       "    1437328800000.0,\n",
       "    1437373800000.0,\n",
       "    1437418800000.0,\n",
       "    1437463800000.0,\n",
       "    1437508800000.0,\n",
       "    1437553800000.0,\n",
       "    1437598800000.0,\n",
       "    1437643800000.0,\n",
       "    1437688800000.0,\n",
       "    1437733800000.0,\n",
       "    1437778800000.0,\n",
       "    1437823800000.0,\n",
       "    1437868800000.0]},\n",
       "  'type': 'Feature'}]"
      ]
     },
     "execution_count": 25,
     "metadata": {},
     "output_type": "execute_result"
    }
   ],
   "source": [
    "data['features']"
   ]
  },
  {
   "cell_type": "code",
   "execution_count": 31,
   "metadata": {
    "collapsed": true
   },
   "outputs": [],
   "source": [
    "import calendar"
   ]
  },
  {
   "cell_type": "code",
   "execution_count": 33,
   "metadata": {},
   "outputs": [
    {
     "data": {
      "text/plain": [
       "<module 'datetime' from 'C:\\\\Users\\\\PDudukin\\\\Anaconda3\\\\lib\\\\datetime.py'>"
      ]
     },
     "execution_count": 33,
     "metadata": {},
     "output_type": "execute_result"
    }
   ],
   "source": [
    "calendar.datetime"
   ]
  },
  {
   "cell_type": "code",
   "execution_count": 74,
   "metadata": {
    "collapsed": true
   },
   "outputs": [],
   "source": [
    "from datetime import date\n",
    "\n",
    "date1 = \"2013-04-26 09:30:00\"\n",
    "date2 = \"2013-04-30 09:30:00\"\n",
    "\n",
    "def diff_days(date1, date2):\n",
    "    f_date = date(int(date1[:4]), int(date1[5:7]), int(date1[8:10]))\n",
    "    l_date = date(int(date2[:4]), int(date2[5:7]), int(date2[8:10]))\n",
    "    delta = l_date - f_date \n",
    "    return delta.days"
   ]
  },
  {
   "cell_type": "code",
   "execution_count": 84,
   "metadata": {},
   "outputs": [
    {
     "data": {
      "text/html": [
       "<div>\n",
       "<style>\n",
       "    .dataframe thead tr:only-child th {\n",
       "        text-align: right;\n",
       "    }\n",
       "\n",
       "    .dataframe thead th {\n",
       "        text-align: left;\n",
       "    }\n",
       "\n",
       "    .dataframe tbody tr th {\n",
       "        vertical-align: top;\n",
       "    }\n",
       "</style>\n",
       "<table border=\"1\" class=\"dataframe\">\n",
       "  <thead>\n",
       "    <tr style=\"text-align: right;\">\n",
       "      <th></th>\n",
       "      <th>begin</th>\n",
       "      <th>city</th>\n",
       "      <th>id</th>\n",
       "      <th>name</th>\n",
       "      <th>place</th>\n",
       "      <th>status</th>\n",
       "    </tr>\n",
       "  </thead>\n",
       "  <tbody>\n",
       "    <tr>\n",
       "      <th>0</th>\n",
       "      <td>2013-04-03 12:00:00</td>\n",
       "      <td>Каменец-Подольский</td>\n",
       "      <td>61435</td>\n",
       "      <td>Деловая игра \"Железный предприниматель\" Камене...</td>\n",
       "      <td>Место и адрес проведения уточняются.</td>\n",
       "      <td>ok</td>\n",
       "    </tr>\n",
       "    <tr>\n",
       "      <th>1</th>\n",
       "      <td>2013-04-06 15:00:00</td>\n",
       "      <td>Москва</td>\n",
       "      <td>61436</td>\n",
       "      <td>Лекция Елизаветы Муратовой «Фотокомпозиция, цв...</td>\n",
       "      <td>ул. Большая Полянка, 65/74, стр. 1. FAQcafe</td>\n",
       "      <td>ok</td>\n",
       "    </tr>\n",
       "    <tr>\n",
       "      <th>2</th>\n",
       "      <td>2013-04-13 12:00:00</td>\n",
       "      <td>Полтава</td>\n",
       "      <td>61437</td>\n",
       "      <td>Деловая игра \"Железный предприниматель\" Полтав...</td>\n",
       "      <td>Место и адрес проведения уточняются.</td>\n",
       "      <td>ok</td>\n",
       "    </tr>\n",
       "    <tr>\n",
       "      <th>3</th>\n",
       "      <td>2013-03-30 00:00:00</td>\n",
       "      <td>Без города</td>\n",
       "      <td>61438</td>\n",
       "      <td>Семинар \"История успеха\" по технологиям Р. Кий...</td>\n",
       "      <td>NaN</td>\n",
       "      <td>ok</td>\n",
       "    </tr>\n",
       "    <tr>\n",
       "      <th>4</th>\n",
       "      <td>2013-03-29 12:00:00</td>\n",
       "      <td>Москва</td>\n",
       "      <td>61439</td>\n",
       "      <td>Встреча с пайщиками</td>\n",
       "      <td>ул.Сущевская, д.21, подъезд 2, 3 этаж, офис 2,...</td>\n",
       "      <td>ok</td>\n",
       "    </tr>\n",
       "  </tbody>\n",
       "</table>\n",
       "</div>"
      ],
      "text/plain": [
       "                 begin                city     id  \\\n",
       "0  2013-04-03 12:00:00  Каменец-Подольский  61435   \n",
       "1  2013-04-06 15:00:00              Москва  61436   \n",
       "2  2013-04-13 12:00:00             Полтава  61437   \n",
       "3  2013-03-30 00:00:00          Без города  61438   \n",
       "4  2013-03-29 12:00:00              Москва  61439   \n",
       "\n",
       "                                                name  \\\n",
       "0  Деловая игра \"Железный предприниматель\" Камене...   \n",
       "1  Лекция Елизаветы Муратовой «Фотокомпозиция, цв...   \n",
       "2  Деловая игра \"Железный предприниматель\" Полтав...   \n",
       "3  Семинар \"История успеха\" по технологиям Р. Кий...   \n",
       "4                                Встреча с пайщиками   \n",
       "\n",
       "                                               place status  \n",
       "0               Место и адрес проведения уточняются.     ok  \n",
       "1        ул. Большая Полянка, 65/74, стр. 1. FAQcafe     ok  \n",
       "2               Место и адрес проведения уточняются.     ok  \n",
       "3                                                NaN     ok  \n",
       "4  ул.Сущевская, д.21, подъезд 2, 3 этаж, офис 2,...     ok  "
      ]
     },
     "execution_count": 84,
     "metadata": {},
     "output_type": "execute_result"
    }
   ],
   "source": [
    "event.head()"
   ]
  },
  {
   "cell_type": "code",
   "execution_count": 86,
   "metadata": {},
   "outputs": [
    {
     "name": "stderr",
     "output_type": "stream",
     "text": [
      "C:\\Users\\PDudukin\\Anaconda3\\lib\\site-packages\\ipykernel_launcher.py:2: SettingWithCopyWarning: \n",
      "A value is trying to be set on a copy of a slice from a DataFrame.\n",
      "Try using .loc[row_indexer,col_indexer] = value instead\n",
      "\n",
      "See the caveats in the documentation: http://pandas.pydata.org/pandas-docs/stable/indexing.html#indexing-view-versus-copy\n",
      "  \n"
     ]
    },
    {
     "data": {
      "text/html": [
       "<div>\n",
       "<style>\n",
       "    .dataframe thead tr:only-child th {\n",
       "        text-align: right;\n",
       "    }\n",
       "\n",
       "    .dataframe thead th {\n",
       "        text-align: left;\n",
       "    }\n",
       "\n",
       "    .dataframe tbody tr th {\n",
       "        vertical-align: top;\n",
       "    }\n",
       "</style>\n",
       "<table border=\"1\" class=\"dataframe\">\n",
       "  <thead>\n",
       "    <tr style=\"text-align: right;\">\n",
       "      <th></th>\n",
       "      <th>begin</th>\n",
       "      <th>city</th>\n",
       "      <th>id</th>\n",
       "      <th>name</th>\n",
       "      <th>place</th>\n",
       "      <th>status</th>\n",
       "      <th>year</th>\n",
       "    </tr>\n",
       "  </thead>\n",
       "  <tbody>\n",
       "    <tr>\n",
       "      <th>0</th>\n",
       "      <td>2013-04-03 12:00:00</td>\n",
       "      <td>Каменец-Подольский</td>\n",
       "      <td>61435</td>\n",
       "      <td>Деловая игра \"Железный предприниматель\" Камене...</td>\n",
       "      <td>Место и адрес проведения уточняются.</td>\n",
       "      <td>ok</td>\n",
       "      <td>2013</td>\n",
       "    </tr>\n",
       "    <tr>\n",
       "      <th>1</th>\n",
       "      <td>2013-04-06 15:00:00</td>\n",
       "      <td>Москва</td>\n",
       "      <td>61436</td>\n",
       "      <td>Лекция Елизаветы Муратовой «Фотокомпозиция, цв...</td>\n",
       "      <td>ул. Большая Полянка, 65/74, стр. 1. FAQcafe</td>\n",
       "      <td>ok</td>\n",
       "      <td>2013</td>\n",
       "    </tr>\n",
       "    <tr>\n",
       "      <th>2</th>\n",
       "      <td>2013-04-13 12:00:00</td>\n",
       "      <td>Полтава</td>\n",
       "      <td>61437</td>\n",
       "      <td>Деловая игра \"Железный предприниматель\" Полтав...</td>\n",
       "      <td>Место и адрес проведения уточняются.</td>\n",
       "      <td>ok</td>\n",
       "      <td>2013</td>\n",
       "    </tr>\n",
       "    <tr>\n",
       "      <th>4</th>\n",
       "      <td>2013-03-29 12:00:00</td>\n",
       "      <td>Москва</td>\n",
       "      <td>61439</td>\n",
       "      <td>Встреча с пайщиками</td>\n",
       "      <td>ул.Сущевская, д.21, подъезд 2, 3 этаж, офис 2,...</td>\n",
       "      <td>ok</td>\n",
       "      <td>2013</td>\n",
       "    </tr>\n",
       "    <tr>\n",
       "      <th>5</th>\n",
       "      <td>2013-04-03 12:00:00</td>\n",
       "      <td>Москва</td>\n",
       "      <td>61440</td>\n",
       "      <td>Встреча с пайщиками</td>\n",
       "      <td>ул.Сущевская, д.21, подъезд 2, 3 этаж, офис 2,...</td>\n",
       "      <td>ok</td>\n",
       "      <td>2013</td>\n",
       "    </tr>\n",
       "  </tbody>\n",
       "</table>\n",
       "</div>"
      ],
      "text/plain": [
       "                 begin                city     id  \\\n",
       "0  2013-04-03 12:00:00  Каменец-Подольский  61435   \n",
       "1  2013-04-06 15:00:00              Москва  61436   \n",
       "2  2013-04-13 12:00:00             Полтава  61437   \n",
       "4  2013-03-29 12:00:00              Москва  61439   \n",
       "5  2013-04-03 12:00:00              Москва  61440   \n",
       "\n",
       "                                                name  \\\n",
       "0  Деловая игра \"Железный предприниматель\" Камене...   \n",
       "1  Лекция Елизаветы Муратовой «Фотокомпозиция, цв...   \n",
       "2  Деловая игра \"Железный предприниматель\" Полтав...   \n",
       "4                                Встреча с пайщиками   \n",
       "5                                Встреча с пайщиками   \n",
       "\n",
       "                                               place status  year  \n",
       "0               Место и адрес проведения уточняются.     ok  2013  \n",
       "1        ул. Большая Полянка, 65/74, стр. 1. FAQcafe     ok  2013  \n",
       "2               Место и адрес проведения уточняются.     ok  2013  \n",
       "4  ул.Сущевская, д.21, подъезд 2, 3 этаж, офис 2,...     ok  2013  \n",
       "5  ул.Сущевская, д.21, подъезд 2, 3 этаж, офис 2,...     ok  2013  "
      ]
     },
     "execution_count": 86,
     "metadata": {},
     "output_type": "execute_result"
    }
   ],
   "source": [
    "event_test=event.dropna()\n",
    "event_test['year']=event_test['begin'].map(lambda x: int(x[:4]))\n",
    "event_test.head()"
   ]
  },
  {
   "cell_type": "code",
   "execution_count": 93,
   "metadata": {
    "collapsed": true
   },
   "outputs": [],
   "source": [
    "sort_event = event_test[event_test.year>2014].sort_values(by=['begin'])"
   ]
  },
  {
   "cell_type": "code",
   "execution_count": 94,
   "metadata": {},
   "outputs": [
    {
     "data": {
      "text/plain": [
       "345694"
      ]
     },
     "execution_count": 94,
     "metadata": {},
     "output_type": "execute_result"
    }
   ],
   "source": [
    "len(sort_event)"
   ]
  },
  {
   "cell_type": "code",
   "execution_count": 95,
   "metadata": {},
   "outputs": [
    {
     "data": {
      "text/html": [
       "<div>\n",
       "<style>\n",
       "    .dataframe thead tr:only-child th {\n",
       "        text-align: right;\n",
       "    }\n",
       "\n",
       "    .dataframe thead th {\n",
       "        text-align: left;\n",
       "    }\n",
       "\n",
       "    .dataframe tbody tr th {\n",
       "        vertical-align: top;\n",
       "    }\n",
       "</style>\n",
       "<table border=\"1\" class=\"dataframe\">\n",
       "  <thead>\n",
       "    <tr style=\"text-align: right;\">\n",
       "      <th></th>\n",
       "      <th>begin</th>\n",
       "      <th>city</th>\n",
       "      <th>id</th>\n",
       "      <th>name</th>\n",
       "      <th>place</th>\n",
       "      <th>status</th>\n",
       "      <th>year</th>\n",
       "    </tr>\n",
       "  </thead>\n",
       "  <tbody>\n",
       "    <tr>\n",
       "      <th>224667</th>\n",
       "      <td>2015-01-01 00:00:00</td>\n",
       "      <td>Киев</td>\n",
       "      <td>174854</td>\n",
       "      <td>Ведущий,шоумен - Николай Морозов</td>\n",
       "      <td>г.Киев,ул.Ларисы Руденко,6-а\\n5 этаж,офис 517</td>\n",
       "      <td>inactive</td>\n",
       "      <td>2015</td>\n",
       "    </tr>\n",
       "    <tr>\n",
       "      <th>222123</th>\n",
       "      <td>2015-01-01 00:00:00</td>\n",
       "      <td>Тула</td>\n",
       "      <td>172310</td>\n",
       "      <td>Клуб руководителей 2015</td>\n",
       "      <td>г. Тула, пр-кт Ленина, 127а. Тренинговый центр...</td>\n",
       "      <td>ok</td>\n",
       "      <td>2015</td>\n",
       "    </tr>\n",
       "    <tr>\n",
       "      <th>220693</th>\n",
       "      <td>2015-01-01 00:00:00</td>\n",
       "      <td>Тула</td>\n",
       "      <td>170880</td>\n",
       "      <td>Программа вечерних мини-тренингов по переговор...</td>\n",
       "      <td>г. Тула, пр-кт Ленина, 127а. Тренинговый центр...</td>\n",
       "      <td>ok</td>\n",
       "      <td>2015</td>\n",
       "    </tr>\n",
       "    <tr>\n",
       "      <th>239536</th>\n",
       "      <td>2015-01-01 00:00:00</td>\n",
       "      <td>Барнаул</td>\n",
       "      <td>189723</td>\n",
       "      <td>Услуги РЦИ</td>\n",
       "      <td>Комсомольский, 118</td>\n",
       "      <td>ok</td>\n",
       "      <td>2015</td>\n",
       "    </tr>\n",
       "    <tr>\n",
       "      <th>220605</th>\n",
       "      <td>2015-01-01 00:00:00</td>\n",
       "      <td>Тула</td>\n",
       "      <td>170792</td>\n",
       "      <td>Программа вечерних мини-тренингов для руководи...</td>\n",
       "      <td>г. Тула, пр-кт Ленина, 127а. Тренинговый центр...</td>\n",
       "      <td>ok</td>\n",
       "      <td>2015</td>\n",
       "    </tr>\n",
       "  </tbody>\n",
       "</table>\n",
       "</div>"
      ],
      "text/plain": [
       "                      begin     city      id  \\\n",
       "224667  2015-01-01 00:00:00     Киев  174854   \n",
       "222123  2015-01-01 00:00:00     Тула  172310   \n",
       "220693  2015-01-01 00:00:00     Тула  170880   \n",
       "239536  2015-01-01 00:00:00  Барнаул  189723   \n",
       "220605  2015-01-01 00:00:00     Тула  170792   \n",
       "\n",
       "                                                     name  \\\n",
       "224667                   Ведущий,шоумен - Николай Морозов   \n",
       "222123                            Клуб руководителей 2015   \n",
       "220693  Программа вечерних мини-тренингов по переговор...   \n",
       "239536                                         Услуги РЦИ   \n",
       "220605  Программа вечерних мини-тренингов для руководи...   \n",
       "\n",
       "                                                    place    status  year  \n",
       "224667      г.Киев,ул.Ларисы Руденко,6-а\\n5 этаж,офис 517  inactive  2015  \n",
       "222123  г. Тула, пр-кт Ленина, 127а. Тренинговый центр...        ok  2015  \n",
       "220693  г. Тула, пр-кт Ленина, 127а. Тренинговый центр...        ok  2015  \n",
       "239536                                 Комсомольский, 118        ok  2015  \n",
       "220605  г. Тула, пр-кт Ленина, 127а. Тренинговый центр...        ok  2015  "
      ]
     },
     "execution_count": 95,
     "metadata": {},
     "output_type": "execute_result"
    }
   ],
   "source": [
    "sort_event.head()"
   ]
  },
  {
   "cell_type": "code",
   "execution_count": 89,
   "metadata": {},
   "outputs": [
    {
     "data": {
      "text/plain": [
       "16436"
      ]
     },
     "execution_count": 89,
     "metadata": {},
     "output_type": "execute_result"
    }
   ],
   "source": [
    "diff_days(\"1970-01-01 00:00:00\", sort_dates[0])"
   ]
  },
  {
   "cell_type": "code",
   "execution_count": null,
   "metadata": {
    "collapsed": true
   },
   "outputs": [],
   "source": []
  },
  {
   "cell_type": "code",
   "execution_count": 76,
   "metadata": {},
   "outputs": [
    {
     "data": {
      "text/plain": [
       "4"
      ]
     },
     "execution_count": 76,
     "metadata": {},
     "output_type": "execute_result"
    }
   ],
   "source": [
    "diff_days(date1, date2)"
   ]
  },
  {
   "cell_type": "code",
   "execution_count": 49,
   "metadata": {},
   "outputs": [
    {
     "name": "stdout",
     "output_type": "stream",
     "text": [
      "2013-04-29 15:59:02\n",
      "2013-04-29 15:59:02\n"
     ]
    }
   ],
   "source": [
    "from datetime import datetime\n",
    "inDate = \"29-Apr-2013-15:59:02\"\n",
    "d = datetime.strptime(inDate, \"%d-%b-%Y-%H:%M:%S\")\n",
    "print(d)\n",
    "datetime(2013, 4, 29, 15, 59, 2)\n",
    "d.strftime(\"YYYYMMDD HH:mm:ss (%Y%m%d %H:%M:%S)\")\n",
    "print(d)"
   ]
  },
  {
   "cell_type": "code",
   "execution_count": 57,
   "metadata": {},
   "outputs": [
    {
     "ename": "TypeError",
     "evalue": "unorderable types: str() <= float()",
     "output_type": "error",
     "traceback": [
      "\u001b[1;31m---------------------------------------------------------------------------\u001b[0m",
      "\u001b[1;31mTypeError\u001b[0m                                 Traceback (most recent call last)",
      "\u001b[1;32m<ipython-input-57-f4c05e5c7f45>\u001b[0m in \u001b[0;36m<module>\u001b[1;34m()\u001b[0m\n\u001b[1;32m----> 1\u001b[1;33m \u001b[0mnp\u001b[0m\u001b[1;33m.\u001b[0m\u001b[0mmin\u001b[0m\u001b[1;33m(\u001b[0m\u001b[0mevent\u001b[0m\u001b[1;33m.\u001b[0m\u001b[0mbegin\u001b[0m\u001b[1;33m.\u001b[0m\u001b[0mvalues\u001b[0m\u001b[1;33m)\u001b[0m\u001b[1;33m\u001b[0m\u001b[0m\n\u001b[0m",
      "\u001b[1;32m~\\Anaconda3\\lib\\site-packages\\numpy\\core\\fromnumeric.py\u001b[0m in \u001b[0;36mamin\u001b[1;34m(a, axis, out, keepdims)\u001b[0m\n\u001b[0;32m   2370\u001b[0m \u001b[1;33m\u001b[0m\u001b[0m\n\u001b[0;32m   2371\u001b[0m     return _methods._amin(a, axis=axis,\n\u001b[1;32m-> 2372\u001b[1;33m                           out=out, **kwargs)\n\u001b[0m\u001b[0;32m   2373\u001b[0m \u001b[1;33m\u001b[0m\u001b[0m\n\u001b[0;32m   2374\u001b[0m \u001b[1;33m\u001b[0m\u001b[0m\n",
      "\u001b[1;32m~\\Anaconda3\\lib\\site-packages\\numpy\\core\\_methods.py\u001b[0m in \u001b[0;36m_amin\u001b[1;34m(a, axis, out, keepdims)\u001b[0m\n\u001b[0;32m     27\u001b[0m \u001b[1;33m\u001b[0m\u001b[0m\n\u001b[0;32m     28\u001b[0m \u001b[1;32mdef\u001b[0m \u001b[0m_amin\u001b[0m\u001b[1;33m(\u001b[0m\u001b[0ma\u001b[0m\u001b[1;33m,\u001b[0m \u001b[0maxis\u001b[0m\u001b[1;33m=\u001b[0m\u001b[1;32mNone\u001b[0m\u001b[1;33m,\u001b[0m \u001b[0mout\u001b[0m\u001b[1;33m=\u001b[0m\u001b[1;32mNone\u001b[0m\u001b[1;33m,\u001b[0m \u001b[0mkeepdims\u001b[0m\u001b[1;33m=\u001b[0m\u001b[1;32mFalse\u001b[0m\u001b[1;33m)\u001b[0m\u001b[1;33m:\u001b[0m\u001b[1;33m\u001b[0m\u001b[0m\n\u001b[1;32m---> 29\u001b[1;33m     \u001b[1;32mreturn\u001b[0m \u001b[0mumr_minimum\u001b[0m\u001b[1;33m(\u001b[0m\u001b[0ma\u001b[0m\u001b[1;33m,\u001b[0m \u001b[0maxis\u001b[0m\u001b[1;33m,\u001b[0m \u001b[1;32mNone\u001b[0m\u001b[1;33m,\u001b[0m \u001b[0mout\u001b[0m\u001b[1;33m,\u001b[0m \u001b[0mkeepdims\u001b[0m\u001b[1;33m)\u001b[0m\u001b[1;33m\u001b[0m\u001b[0m\n\u001b[0m\u001b[0;32m     30\u001b[0m \u001b[1;33m\u001b[0m\u001b[0m\n\u001b[0;32m     31\u001b[0m \u001b[1;32mdef\u001b[0m \u001b[0m_sum\u001b[0m\u001b[1;33m(\u001b[0m\u001b[0ma\u001b[0m\u001b[1;33m,\u001b[0m \u001b[0maxis\u001b[0m\u001b[1;33m=\u001b[0m\u001b[1;32mNone\u001b[0m\u001b[1;33m,\u001b[0m \u001b[0mdtype\u001b[0m\u001b[1;33m=\u001b[0m\u001b[1;32mNone\u001b[0m\u001b[1;33m,\u001b[0m \u001b[0mout\u001b[0m\u001b[1;33m=\u001b[0m\u001b[1;32mNone\u001b[0m\u001b[1;33m,\u001b[0m \u001b[0mkeepdims\u001b[0m\u001b[1;33m=\u001b[0m\u001b[1;32mFalse\u001b[0m\u001b[1;33m)\u001b[0m\u001b[1;33m:\u001b[0m\u001b[1;33m\u001b[0m\u001b[0m\n",
      "\u001b[1;31mTypeError\u001b[0m: unorderable types: str() <= float()"
     ]
    }
   ],
   "source": [
    "for i in range(event.shape[0]):\n",
    "\n",
    "    np.min(event.begin.values[i])"
   ]
  },
  {
   "cell_type": "code",
   "execution_count": null,
   "metadata": {
    "collapsed": true
   },
   "outputs": [],
   "source": []
  },
  {
   "cell_type": "markdown",
   "metadata": {},
   "source": [
    "### Events in dynamics on the world map by cities/categories"
   ]
  },
  {
   "cell_type": "code",
   "execution_count": 272,
   "metadata": {
    "collapsed": true
   },
   "outputs": [],
   "source": [
    "event = pd.read_csv('D:/event.csv', usecols = ['city', 'begin', 'id', 'name', 'place', 'status',])\n",
    "event_coords = pd.read_csv('event_coo.csv')\n",
    "event_all = pd.merge(event, event_coords, how='left', left_on='id', right_on='event_id')\n",
    "e_event_category = pd.merge(event_all, event_category, how='left', left_on='id', right_on='event')\n",
    "data = pd.merge(e_event_category, category, how='left', left_on='category', right_on='id')"
   ]
  },
  {
   "cell_type": "code",
   "execution_count": 273,
   "metadata": {},
   "outputs": [
    {
     "data": {
      "text/html": [
       "<div>\n",
       "<style>\n",
       "    .dataframe thead tr:only-child th {\n",
       "        text-align: right;\n",
       "    }\n",
       "\n",
       "    .dataframe thead th {\n",
       "        text-align: left;\n",
       "    }\n",
       "\n",
       "    .dataframe tbody tr th {\n",
       "        vertical-align: top;\n",
       "    }\n",
       "</style>\n",
       "<table border=\"1\" class=\"dataframe\">\n",
       "  <thead>\n",
       "    <tr style=\"text-align: right;\">\n",
       "      <th></th>\n",
       "      <th>begin</th>\n",
       "      <th>city</th>\n",
       "      <th>id_x</th>\n",
       "      <th>name_x</th>\n",
       "      <th>place</th>\n",
       "      <th>status_x</th>\n",
       "      <th>event_id</th>\n",
       "      <th>place_lat</th>\n",
       "      <th>place_lon</th>\n",
       "      <th>subw_lat</th>\n",
       "      <th>...</th>\n",
       "      <th>event</th>\n",
       "      <th>id_y</th>\n",
       "      <th>moderated</th>\n",
       "      <th>org</th>\n",
       "      <th>description</th>\n",
       "      <th>id</th>\n",
       "      <th>name_y</th>\n",
       "      <th>status_y</th>\n",
       "      <th>tag</th>\n",
       "      <th>type</th>\n",
       "    </tr>\n",
       "  </thead>\n",
       "  <tbody>\n",
       "    <tr>\n",
       "      <th>0</th>\n",
       "      <td>2013-04-03 12:00:00</td>\n",
       "      <td>Каменец-Подольский</td>\n",
       "      <td>61435</td>\n",
       "      <td>Деловая игра \"Железный предприниматель\" Камене...</td>\n",
       "      <td>Место и адрес проведения уточняются.</td>\n",
       "      <td>ok</td>\n",
       "      <td>NaN</td>\n",
       "      <td>NaN</td>\n",
       "      <td>NaN</td>\n",
       "      <td>NaN</td>\n",
       "      <td>...</td>\n",
       "      <td>61435.0</td>\n",
       "      <td>92010.0</td>\n",
       "      <td>NaN</td>\n",
       "      <td>55.0</td>\n",
       "      <td>NaN</td>\n",
       "      <td>427.0</td>\n",
       "      <td>Тренинг</td>\n",
       "      <td>inactive</td>\n",
       "      <td>NaN</td>\n",
       "      <td>event_type</td>\n",
       "    </tr>\n",
       "    <tr>\n",
       "      <th>1</th>\n",
       "      <td>2013-04-03 12:00:00</td>\n",
       "      <td>Каменец-Подольский</td>\n",
       "      <td>61435</td>\n",
       "      <td>Деловая игра \"Железный предприниматель\" Камене...</td>\n",
       "      <td>Место и адрес проведения уточняются.</td>\n",
       "      <td>ok</td>\n",
       "      <td>NaN</td>\n",
       "      <td>NaN</td>\n",
       "      <td>NaN</td>\n",
       "      <td>NaN</td>\n",
       "      <td>...</td>\n",
       "      <td>61435.0</td>\n",
       "      <td>92011.0</td>\n",
       "      <td>NaN</td>\n",
       "      <td>55.0</td>\n",
       "      <td>NaN</td>\n",
       "      <td>217.0</td>\n",
       "      <td>Бизнес</td>\n",
       "      <td>ok</td>\n",
       "      <td>business</td>\n",
       "      <td>defaultcategory</td>\n",
       "    </tr>\n",
       "    <tr>\n",
       "      <th>2</th>\n",
       "      <td>2013-04-03 12:00:00</td>\n",
       "      <td>Каменец-Подольский</td>\n",
       "      <td>61435</td>\n",
       "      <td>Деловая игра \"Железный предприниматель\" Камене...</td>\n",
       "      <td>Место и адрес проведения уточняются.</td>\n",
       "      <td>ok</td>\n",
       "      <td>NaN</td>\n",
       "      <td>NaN</td>\n",
       "      <td>NaN</td>\n",
       "      <td>NaN</td>\n",
       "      <td>...</td>\n",
       "      <td>61435.0</td>\n",
       "      <td>92012.0</td>\n",
       "      <td>NaN</td>\n",
       "      <td>55.0</td>\n",
       "      <td>NaN</td>\n",
       "      <td>452.0</td>\n",
       "      <td>ИТ и интернет</td>\n",
       "      <td>ok</td>\n",
       "      <td>it</td>\n",
       "      <td>defaultcategory</td>\n",
       "    </tr>\n",
       "    <tr>\n",
       "      <th>3</th>\n",
       "      <td>2013-04-03 12:00:00</td>\n",
       "      <td>Каменец-Подольский</td>\n",
       "      <td>61435</td>\n",
       "      <td>Деловая игра \"Железный предприниматель\" Камене...</td>\n",
       "      <td>Место и адрес проведения уточняются.</td>\n",
       "      <td>ok</td>\n",
       "      <td>NaN</td>\n",
       "      <td>NaN</td>\n",
       "      <td>NaN</td>\n",
       "      <td>NaN</td>\n",
       "      <td>...</td>\n",
       "      <td>61435.0</td>\n",
       "      <td>92013.0</td>\n",
       "      <td>NaN</td>\n",
       "      <td>55.0</td>\n",
       "      <td>NaN</td>\n",
       "      <td>217.0</td>\n",
       "      <td>Бизнес</td>\n",
       "      <td>ok</td>\n",
       "      <td>business</td>\n",
       "      <td>defaultcategory</td>\n",
       "    </tr>\n",
       "    <tr>\n",
       "      <th>4</th>\n",
       "      <td>2013-04-06 15:00:00</td>\n",
       "      <td>Москва</td>\n",
       "      <td>61436</td>\n",
       "      <td>Лекция Елизаветы Муратовой «Фотокомпозиция, цв...</td>\n",
       "      <td>ул. Большая Полянка, 65/74, стр. 1. FAQcafe</td>\n",
       "      <td>ok</td>\n",
       "      <td>NaN</td>\n",
       "      <td>NaN</td>\n",
       "      <td>NaN</td>\n",
       "      <td>NaN</td>\n",
       "      <td>...</td>\n",
       "      <td>61436.0</td>\n",
       "      <td>92008.0</td>\n",
       "      <td>NaN</td>\n",
       "      <td>14098.0</td>\n",
       "      <td>NaN</td>\n",
       "      <td>434.0</td>\n",
       "      <td>Лекция</td>\n",
       "      <td>inactive</td>\n",
       "      <td>NaN</td>\n",
       "      <td>event_type</td>\n",
       "    </tr>\n",
       "  </tbody>\n",
       "</table>\n",
       "<p>5 rows × 22 columns</p>\n",
       "</div>"
      ],
      "text/plain": [
       "                 begin                city   id_x  \\\n",
       "0  2013-04-03 12:00:00  Каменец-Подольский  61435   \n",
       "1  2013-04-03 12:00:00  Каменец-Подольский  61435   \n",
       "2  2013-04-03 12:00:00  Каменец-Подольский  61435   \n",
       "3  2013-04-03 12:00:00  Каменец-Подольский  61435   \n",
       "4  2013-04-06 15:00:00              Москва  61436   \n",
       "\n",
       "                                              name_x  \\\n",
       "0  Деловая игра \"Железный предприниматель\" Камене...   \n",
       "1  Деловая игра \"Железный предприниматель\" Камене...   \n",
       "2  Деловая игра \"Железный предприниматель\" Камене...   \n",
       "3  Деловая игра \"Железный предприниматель\" Камене...   \n",
       "4  Лекция Елизаветы Муратовой «Фотокомпозиция, цв...   \n",
       "\n",
       "                                         place status_x  event_id  place_lat  \\\n",
       "0         Место и адрес проведения уточняются.       ok       NaN        NaN   \n",
       "1         Место и адрес проведения уточняются.       ok       NaN        NaN   \n",
       "2         Место и адрес проведения уточняются.       ok       NaN        NaN   \n",
       "3         Место и адрес проведения уточняются.       ok       NaN        NaN   \n",
       "4  ул. Большая Полянка, 65/74, стр. 1. FAQcafe       ok       NaN        NaN   \n",
       "\n",
       "   place_lon  subw_lat       ...           event     id_y  moderated      org  \\\n",
       "0        NaN       NaN       ...         61435.0  92010.0        NaN     55.0   \n",
       "1        NaN       NaN       ...         61435.0  92011.0        NaN     55.0   \n",
       "2        NaN       NaN       ...         61435.0  92012.0        NaN     55.0   \n",
       "3        NaN       NaN       ...         61435.0  92013.0        NaN     55.0   \n",
       "4        NaN       NaN       ...         61436.0  92008.0        NaN  14098.0   \n",
       "\n",
       "   description     id         name_y  status_y       tag             type  \n",
       "0          NaN  427.0        Тренинг  inactive       NaN       event_type  \n",
       "1          NaN  217.0         Бизнес        ok  business  defaultcategory  \n",
       "2          NaN  452.0  ИТ и интернет        ok        it  defaultcategory  \n",
       "3          NaN  217.0         Бизнес        ok  business  defaultcategory  \n",
       "4          NaN  434.0         Лекция  inactive       NaN       event_type  \n",
       "\n",
       "[5 rows x 22 columns]"
      ]
     },
     "execution_count": 273,
     "metadata": {},
     "output_type": "execute_result"
    }
   ],
   "source": [
    "data.head()"
   ]
  },
  {
   "cell_type": "code",
   "execution_count": 274,
   "metadata": {
    "collapsed": true
   },
   "outputs": [],
   "source": [
    "data = data[(data.status_x == 'ok')]\n",
    "data = data[(data.status_y == 'ok')]\n",
    "data = data[(data.type == 'defaultcategory')]"
   ]
  },
  {
   "cell_type": "code",
   "execution_count": 275,
   "metadata": {},
   "outputs": [
    {
     "data": {
      "text/plain": [
       "Index(['begin', 'city', 'id_x', 'name_x', 'place', 'status_x', 'event_id',\n",
       "       'place_lat', 'place_lon', 'subw_lat', 'subw_lon', 'category', 'event',\n",
       "       'id_y', 'moderated', 'org', 'description', 'id', 'name_y', 'status_y',\n",
       "       'tag', 'type'],\n",
       "      dtype='object')"
      ]
     },
     "execution_count": 275,
     "metadata": {},
     "output_type": "execute_result"
    }
   ],
   "source": [
    "data.columns"
   ]
  },
  {
   "cell_type": "code",
   "execution_count": 276,
   "metadata": {
    "collapsed": true
   },
   "outputs": [],
   "source": [
    "data = data.dropna(subset=['id_x','place_lat','place_lon','city'], how='any')"
   ]
  },
  {
   "cell_type": "code",
   "execution_count": 277,
   "metadata": {
    "collapsed": true
   },
   "outputs": [],
   "source": [
    "geometry = [Point(xy) for xy in zip(data.place_lon, data.place_lat)]\n",
    "data = GeoDataFrame(data, geometry=geometry)"
   ]
  },
  {
   "cell_type": "code",
   "execution_count": 279,
   "metadata": {},
   "outputs": [
    {
     "data": {
      "text/plain": [
       "Index(['begin', 'city', 'id_x', 'name_x', 'place', 'status_x', 'event_id',\n",
       "       'place_lat', 'place_lon', 'subw_lat', 'subw_lon', 'category', 'event',\n",
       "       'id_y', 'moderated', 'org', 'description', 'id', 'name_y', 'status_y',\n",
       "       'tag', 'type', 'geometry'],\n",
       "      dtype='object')"
      ]
     },
     "execution_count": 279,
     "metadata": {},
     "output_type": "execute_result"
    }
   ],
   "source": [
    "data.columns"
   ]
  },
  {
   "cell_type": "code",
   "execution_count": 281,
   "metadata": {
    "collapsed": true
   },
   "outputs": [],
   "source": [
    "used_cols = ['begin', 'city', 'id_x', 'name_x', 'place', 'name_y', 'geometry']"
   ]
  },
  {
   "cell_type": "code",
   "execution_count": 282,
   "metadata": {},
   "outputs": [
    {
     "name": "stderr",
     "output_type": "stream",
     "text": [
      "C:\\Users\\PDudukin\\Anaconda3\\lib\\site-packages\\pandas\\core\\frame.py:2746: SettingWithCopyWarning: \n",
      "A value is trying to be set on a copy of a slice from a DataFrame\n",
      "\n",
      "See the caveats in the documentation: http://pandas.pydata.org/pandas-docs/stable/indexing.html#indexing-view-versus-copy\n",
      "  **kwargs)\n"
     ]
    }
   ],
   "source": [
    "data = data[used_cols]\n",
    "data.rename(columns={'id_x':'id', 'name_x':'name', 'name_y':'category'}, inplace=True)"
   ]
  },
  {
   "cell_type": "code",
   "execution_count": 285,
   "metadata": {
    "collapsed": true
   },
   "outputs": [],
   "source": [
    "data = data.set_index('id')"
   ]
  },
  {
   "cell_type": "code",
   "execution_count": 287,
   "metadata": {},
   "outputs": [
    {
     "data": {
      "text/plain": [
       "(326934, 6)"
      ]
     },
     "execution_count": 287,
     "metadata": {},
     "output_type": "execute_result"
    }
   ],
   "source": [
    "data.shape"
   ]
  },
  {
   "cell_type": "code",
   "execution_count": 427,
   "metadata": {
    "collapsed": true
   },
   "outputs": [],
   "source": [
    "#def datetime_to_ms(datetime_str):\n",
    "#    init_datetime = \"1970-01-01 00:00:00\"\n",
    "#    \n",
    "#    init_date = date(int(init_datetime[:4]), int(init_datetime[5:7]), int(init_datetime[8:10])) \n",
    "#    cur_date = date(int(datetime_str[:4]), int(datetime_str[5:7]), int(datetime_str[8:10]))\n",
    "#    cur_time_ms = (int(datetime_str[11:13])*3600+int(datetime_str[14:16])*60+int(datetime_str[17:19]))*1000\n",
    "#    \n",
    "#    delta_dates = cur_date - init_date \n",
    "#    return [delta_dates.days*86400000+cur_time_ms]"
   ]
  },
  {
   "cell_type": "code",
   "execution_count": 428,
   "metadata": {
    "collapsed": true
   },
   "outputs": [],
   "source": [
    "def datetime_to_ms(current_datetime):\n",
    "    datetime_format = \"%Y-%m-%d %H:%M:%S\"\n",
    "    init_datetime = datetime.strptime(\"1970-01-01 00:00:00\", datetime_format)\n",
    "    curr_datetime = datetime.strptime(current_datetime, datetime_format)\n",
    "    delta = curr_datetime - init_datetime\n",
    "    return int(delta.total_seconds())*1000"
   ]
  },
  {
   "cell_type": "code",
   "execution_count": null,
   "metadata": {
    "collapsed": true
   },
   "outputs": [],
   "source": [
    "def generate_json(json):\n",
    "    d = {}\n",
    "    d_coords = {}\n",
    "    d_times = {}\n",
    "    crds_list = []\n",
    "    times_list = []\n",
    "    \n",
    "    for idx in range(len(json)):\n",
    "        crds_list.append(json[idx]['geometry']['coordinates'])\n",
    "        times_list.append(json[idx]['properties']['times'][0])\n",
    "    \n",
    "    d_times['times'] = times_list\n",
    "    d_coords['coordinates'] = crds_list\n",
    "    d_coords['type'] = 'MultiPoint'\n",
    "    d['geometry'] = d_coords\n",
    "    d['properties'] = d_times\n",
    "    d['type'] = 'Feature'\n",
    "    return d"
   ]
  },
  {
   "cell_type": "code",
   "execution_count": 430,
   "metadata": {},
   "outputs": [
    {
     "data": {
      "text/plain": [
       "1435708800000"
      ]
     },
     "execution_count": 430,
     "metadata": {},
     "output_type": "execute_result"
    }
   ],
   "source": [
    "datetime_to_ms(\"2015-07-01 00:00:00\")"
   ]
  },
  {
   "cell_type": "code",
   "execution_count": 432,
   "metadata": {},
   "outputs": [
    {
     "ename": "TypeError",
     "evalue": "strptime() argument 1 must be str, not datetime.datetime",
     "output_type": "error",
     "traceback": [
      "\u001b[1;31m---------------------------------------------------------------------------\u001b[0m",
      "\u001b[1;31mTypeError\u001b[0m                                 Traceback (most recent call last)",
      "\u001b[1;32m<ipython-input-432-a1dcd6c3bbba>\u001b[0m in \u001b[0;36m<module>\u001b[1;34m()\u001b[0m\n\u001b[1;32m----> 1\u001b[1;33m \u001b[0mdata\u001b[0m\u001b[1;33m[\u001b[0m\u001b[1;34m'times'\u001b[0m\u001b[1;33m]\u001b[0m \u001b[1;33m=\u001b[0m \u001b[0mdata\u001b[0m\u001b[1;33m[\u001b[0m\u001b[1;34m'begin'\u001b[0m\u001b[1;33m]\u001b[0m\u001b[1;33m.\u001b[0m\u001b[0mmap\u001b[0m\u001b[1;33m(\u001b[0m\u001b[1;32mlambda\u001b[0m \u001b[0mx\u001b[0m\u001b[1;33m:\u001b[0m \u001b[0mdatetime_to_ms\u001b[0m\u001b[1;33m(\u001b[0m\u001b[0mx\u001b[0m\u001b[1;33m)\u001b[0m\u001b[1;33m)\u001b[0m\u001b[1;33m\u001b[0m\u001b[0m\n\u001b[0m\u001b[0;32m      2\u001b[0m \u001b[0mdata\u001b[0m\u001b[1;33m[\u001b[0m\u001b[1;34m'begin'\u001b[0m\u001b[1;33m]\u001b[0m \u001b[1;33m=\u001b[0m \u001b[0mdata\u001b[0m\u001b[1;33m[\u001b[0m\u001b[1;34m'begin'\u001b[0m\u001b[1;33m]\u001b[0m\u001b[1;33m.\u001b[0m\u001b[0mmap\u001b[0m\u001b[1;33m(\u001b[0m\u001b[1;32mlambda\u001b[0m \u001b[0mx\u001b[0m\u001b[1;33m:\u001b[0m \u001b[0mdatetime\u001b[0m\u001b[1;33m.\u001b[0m\u001b[0mstrptime\u001b[0m\u001b[1;33m(\u001b[0m\u001b[0mx\u001b[0m\u001b[1;33m,\u001b[0m \u001b[1;34m\"%Y-%m-%d %H:%M:%S\"\u001b[0m\u001b[1;33m)\u001b[0m\u001b[1;33m)\u001b[0m\u001b[1;33m\u001b[0m\u001b[0m\n\u001b[0;32m      3\u001b[0m \u001b[1;31m#data['year'] = data['begin'].map(lambda x: int(x[:4]))\u001b[0m\u001b[1;33m\u001b[0m\u001b[1;33m\u001b[0m\u001b[0m\n\u001b[0;32m      4\u001b[0m \u001b[1;31m#json_event_all[0]['properties']['times'] = [1437148800000]\u001b[0m\u001b[1;33m\u001b[0m\u001b[1;33m\u001b[0m\u001b[0m\n",
      "\u001b[1;32m~\\Anaconda3\\lib\\site-packages\\pandas\\core\\series.py\u001b[0m in \u001b[0;36mmap\u001b[1;34m(self, arg, na_action)\u001b[0m\n\u001b[0;32m   2156\u001b[0m         \u001b[1;32melse\u001b[0m\u001b[1;33m:\u001b[0m\u001b[1;33m\u001b[0m\u001b[0m\n\u001b[0;32m   2157\u001b[0m             \u001b[1;31m# arg is a function\u001b[0m\u001b[1;33m\u001b[0m\u001b[1;33m\u001b[0m\u001b[0m\n\u001b[1;32m-> 2158\u001b[1;33m             \u001b[0mnew_values\u001b[0m \u001b[1;33m=\u001b[0m \u001b[0mmap_f\u001b[0m\u001b[1;33m(\u001b[0m\u001b[0mvalues\u001b[0m\u001b[1;33m,\u001b[0m \u001b[0marg\u001b[0m\u001b[1;33m)\u001b[0m\u001b[1;33m\u001b[0m\u001b[0m\n\u001b[0m\u001b[0;32m   2159\u001b[0m \u001b[1;33m\u001b[0m\u001b[0m\n\u001b[0;32m   2160\u001b[0m         return self._constructor(new_values,\n",
      "\u001b[1;32mpandas\\_libs\\src\\inference.pyx\u001b[0m in \u001b[0;36mpandas._libs.lib.map_infer (pandas\\_libs\\lib.c:66645)\u001b[1;34m()\u001b[0m\n",
      "\u001b[1;32m<ipython-input-432-a1dcd6c3bbba>\u001b[0m in \u001b[0;36m<lambda>\u001b[1;34m(x)\u001b[0m\n\u001b[1;32m----> 1\u001b[1;33m \u001b[0mdata\u001b[0m\u001b[1;33m[\u001b[0m\u001b[1;34m'times'\u001b[0m\u001b[1;33m]\u001b[0m \u001b[1;33m=\u001b[0m \u001b[0mdata\u001b[0m\u001b[1;33m[\u001b[0m\u001b[1;34m'begin'\u001b[0m\u001b[1;33m]\u001b[0m\u001b[1;33m.\u001b[0m\u001b[0mmap\u001b[0m\u001b[1;33m(\u001b[0m\u001b[1;32mlambda\u001b[0m \u001b[0mx\u001b[0m\u001b[1;33m:\u001b[0m \u001b[0mdatetime_to_ms\u001b[0m\u001b[1;33m(\u001b[0m\u001b[0mx\u001b[0m\u001b[1;33m)\u001b[0m\u001b[1;33m)\u001b[0m\u001b[1;33m\u001b[0m\u001b[0m\n\u001b[0m\u001b[0;32m      2\u001b[0m \u001b[0mdata\u001b[0m\u001b[1;33m[\u001b[0m\u001b[1;34m'begin'\u001b[0m\u001b[1;33m]\u001b[0m \u001b[1;33m=\u001b[0m \u001b[0mdata\u001b[0m\u001b[1;33m[\u001b[0m\u001b[1;34m'begin'\u001b[0m\u001b[1;33m]\u001b[0m\u001b[1;33m.\u001b[0m\u001b[0mmap\u001b[0m\u001b[1;33m(\u001b[0m\u001b[1;32mlambda\u001b[0m \u001b[0mx\u001b[0m\u001b[1;33m:\u001b[0m \u001b[0mdatetime\u001b[0m\u001b[1;33m.\u001b[0m\u001b[0mstrptime\u001b[0m\u001b[1;33m(\u001b[0m\u001b[0mx\u001b[0m\u001b[1;33m,\u001b[0m \u001b[1;34m\"%Y-%m-%d %H:%M:%S\"\u001b[0m\u001b[1;33m)\u001b[0m\u001b[1;33m)\u001b[0m\u001b[1;33m\u001b[0m\u001b[0m\n\u001b[0;32m      3\u001b[0m \u001b[1;31m#data['year'] = data['begin'].map(lambda x: int(x[:4]))\u001b[0m\u001b[1;33m\u001b[0m\u001b[1;33m\u001b[0m\u001b[0m\n\u001b[0;32m      4\u001b[0m \u001b[1;31m#json_event_all[0]['properties']['times'] = [1437148800000]\u001b[0m\u001b[1;33m\u001b[0m\u001b[1;33m\u001b[0m\u001b[0m\n",
      "\u001b[1;32m<ipython-input-428-ce2c4b28e25f>\u001b[0m in \u001b[0;36mdatetime_to_ms\u001b[1;34m(current_datetime)\u001b[0m\n\u001b[0;32m      2\u001b[0m     \u001b[0mdatetime_format\u001b[0m \u001b[1;33m=\u001b[0m \u001b[1;34m\"%Y-%m-%d %H:%M:%S\"\u001b[0m\u001b[1;33m\u001b[0m\u001b[0m\n\u001b[0;32m      3\u001b[0m     \u001b[0minit_datetime\u001b[0m \u001b[1;33m=\u001b[0m \u001b[0mdatetime\u001b[0m\u001b[1;33m.\u001b[0m\u001b[0mstrptime\u001b[0m\u001b[1;33m(\u001b[0m\u001b[1;34m\"1970-01-01 00:00:00\"\u001b[0m\u001b[1;33m,\u001b[0m \u001b[0mdatetime_format\u001b[0m\u001b[1;33m)\u001b[0m\u001b[1;33m\u001b[0m\u001b[0m\n\u001b[1;32m----> 4\u001b[1;33m     \u001b[0mcurr_datetime\u001b[0m \u001b[1;33m=\u001b[0m \u001b[0mdatetime\u001b[0m\u001b[1;33m.\u001b[0m\u001b[0mstrptime\u001b[0m\u001b[1;33m(\u001b[0m\u001b[0mcurrent_datetime\u001b[0m\u001b[1;33m,\u001b[0m \u001b[0mdatetime_format\u001b[0m\u001b[1;33m)\u001b[0m\u001b[1;33m\u001b[0m\u001b[0m\n\u001b[0m\u001b[0;32m      5\u001b[0m     \u001b[0mdelta\u001b[0m \u001b[1;33m=\u001b[0m \u001b[0mcurr_datetime\u001b[0m \u001b[1;33m-\u001b[0m \u001b[0minit_datetime\u001b[0m\u001b[1;33m\u001b[0m\u001b[0m\n\u001b[0;32m      6\u001b[0m     \u001b[1;32mreturn\u001b[0m \u001b[0mint\u001b[0m\u001b[1;33m(\u001b[0m\u001b[0mdelta\u001b[0m\u001b[1;33m.\u001b[0m\u001b[0mtotal_seconds\u001b[0m\u001b[1;33m(\u001b[0m\u001b[1;33m)\u001b[0m\u001b[1;33m)\u001b[0m\u001b[1;33m*\u001b[0m\u001b[1;36m1000\u001b[0m\u001b[1;33m\u001b[0m\u001b[0m\n",
      "\u001b[1;31mTypeError\u001b[0m: strptime() argument 1 must be str, not datetime.datetime"
     ]
    }
   ],
   "source": [
    "data['times'] = data['begin'].map(lambda x: datetime_to_ms(x))\n",
    "data['begin'] = data['begin'].map(lambda x: datetime.strptime(x, \"%Y-%m-%d %H:%M:%S\"))\n",
    "#data['year'] = data['begin'].map(lambda x: int(x[:4]))\n",
    "#json_event_all[0]['properties']['times'] = [1437148800000]"
   ]
  },
  {
   "cell_type": "code",
   "execution_count": 302,
   "metadata": {},
   "outputs": [
    {
     "data": {
      "text/html": [
       "<div>\n",
       "<style>\n",
       "    .dataframe thead tr:only-child th {\n",
       "        text-align: right;\n",
       "    }\n",
       "\n",
       "    .dataframe thead th {\n",
       "        text-align: left;\n",
       "    }\n",
       "\n",
       "    .dataframe tbody tr th {\n",
       "        vertical-align: top;\n",
       "    }\n",
       "</style>\n",
       "<table border=\"1\" class=\"dataframe\">\n",
       "  <thead>\n",
       "    <tr style=\"text-align: right;\">\n",
       "      <th></th>\n",
       "      <th>begin</th>\n",
       "      <th>city</th>\n",
       "      <th>name</th>\n",
       "      <th>place</th>\n",
       "      <th>category</th>\n",
       "      <th>geometry</th>\n",
       "      <th>times</th>\n",
       "      <th>year</th>\n",
       "    </tr>\n",
       "    <tr>\n",
       "      <th>id</th>\n",
       "      <th></th>\n",
       "      <th></th>\n",
       "      <th></th>\n",
       "      <th></th>\n",
       "      <th></th>\n",
       "      <th></th>\n",
       "      <th></th>\n",
       "      <th></th>\n",
       "    </tr>\n",
       "  </thead>\n",
       "  <tbody>\n",
       "    <tr>\n",
       "      <th>61456</th>\n",
       "      <td>2013-03-27 19:00:00</td>\n",
       "      <td>Москва</td>\n",
       "      <td>К 400-летию Дома Романовых: документальное кин...</td>\n",
       "      <td>ул.Каретный ряд, д.5/10</td>\n",
       "      <td>Кино</td>\n",
       "      <td>POINT (37.60841751098633 55.77267837524414)</td>\n",
       "      <td>[1364410800000]</td>\n",
       "      <td>2013</td>\n",
       "    </tr>\n",
       "    <tr>\n",
       "      <th>61468</th>\n",
       "      <td>2013-03-30 07:00:00</td>\n",
       "      <td>Звенигород</td>\n",
       "      <td>\"Добрая Москва\"</td>\n",
       "      <td>Московская область, Одинцовский р-н, г. Звениг...</td>\n",
       "      <td>Психология и самопознание</td>\n",
       "      <td>POINT (36.85532379150391 55.72968673706055)</td>\n",
       "      <td>[1364626800000]</td>\n",
       "      <td>2013</td>\n",
       "    </tr>\n",
       "    <tr>\n",
       "      <th>61471</th>\n",
       "      <td>2013-04-19 19:00:00</td>\n",
       "      <td>Санкт-Петербург</td>\n",
       "      <td>Открытая встреча с Александром Громовым \"Экстр...</td>\n",
       "      <td>Казанская ул, д. 7, ауд 3, \\nориентир и вход -...</td>\n",
       "      <td>Психология и самопознание</td>\n",
       "      <td>POINT (30.32224655151367 59.93390274047852)</td>\n",
       "      <td>[1366398000000]</td>\n",
       "      <td>2013</td>\n",
       "    </tr>\n",
       "    <tr>\n",
       "      <th>61475</th>\n",
       "      <td>2013-04-20 11:00:00</td>\n",
       "      <td>Санкт-Петербург</td>\n",
       "      <td>Александр Громовой. Обучающие семинары по экст...</td>\n",
       "      <td>уточняется</td>\n",
       "      <td>Психология и самопознание</td>\n",
       "      <td>POINT (30.31586837768555 59.93909454345703)</td>\n",
       "      <td>[1366455600000]</td>\n",
       "      <td>2013</td>\n",
       "    </tr>\n",
       "    <tr>\n",
       "      <th>61483</th>\n",
       "      <td>2013-04-06 16:00:00</td>\n",
       "      <td>Санкт-Петербург</td>\n",
       "      <td>ПРАКТИКУМ по практической  гештальт терапии</td>\n",
       "      <td>Троицкий проспект</td>\n",
       "      <td>Психология и самопознание</td>\n",
       "      <td>POINT (30.30246543884277 59.91593551635742)</td>\n",
       "      <td>[1365264000000]</td>\n",
       "      <td>2013</td>\n",
       "    </tr>\n",
       "  </tbody>\n",
       "</table>\n",
       "</div>"
      ],
      "text/plain": [
       "                     begin             city  \\\n",
       "id                                            \n",
       "61456  2013-03-27 19:00:00           Москва   \n",
       "61468  2013-03-30 07:00:00       Звенигород   \n",
       "61471  2013-04-19 19:00:00  Санкт-Петербург   \n",
       "61475  2013-04-20 11:00:00  Санкт-Петербург   \n",
       "61483  2013-04-06 16:00:00  Санкт-Петербург   \n",
       "\n",
       "                                                    name  \\\n",
       "id                                                         \n",
       "61456  К 400-летию Дома Романовых: документальное кин...   \n",
       "61468                                    \"Добрая Москва\"   \n",
       "61471  Открытая встреча с Александром Громовым \"Экстр...   \n",
       "61475  Александр Громовой. Обучающие семинары по экст...   \n",
       "61483        ПРАКТИКУМ по практической  гештальт терапии   \n",
       "\n",
       "                                                   place  \\\n",
       "id                                                         \n",
       "61456                            ул.Каретный ряд, д.5/10   \n",
       "61468  Московская область, Одинцовский р-н, г. Звениг...   \n",
       "61471  Казанская ул, д. 7, ауд 3, \\nориентир и вход -...   \n",
       "61475                                         уточняется   \n",
       "61483                                  Троицкий проспект   \n",
       "\n",
       "                        category                                     geometry  \\\n",
       "id                                                                              \n",
       "61456                       Кино  POINT (37.60841751098633 55.77267837524414)   \n",
       "61468  Психология и самопознание  POINT (36.85532379150391 55.72968673706055)   \n",
       "61471  Психология и самопознание  POINT (30.32224655151367 59.93390274047852)   \n",
       "61475  Психология и самопознание  POINT (30.31586837768555 59.93909454345703)   \n",
       "61483  Психология и самопознание  POINT (30.30246543884277 59.91593551635742)   \n",
       "\n",
       "                 times  year  \n",
       "id                            \n",
       "61456  [1364410800000]  2013  \n",
       "61468  [1364626800000]  2013  \n",
       "61471  [1366398000000]  2013  \n",
       "61475  [1366455600000]  2013  \n",
       "61483  [1365264000000]  2013  "
      ]
     },
     "execution_count": 302,
     "metadata": {},
     "output_type": "execute_result"
    }
   ],
   "source": [
    "data.head()"
   ]
  },
  {
   "cell_type": "code",
   "execution_count": 437,
   "metadata": {
    "scrolled": true
   },
   "outputs": [
    {
     "data": {
      "text/plain": [
       "{'geometry': {'coordinates': [37.63294982910156, 55.761451721191406],\n",
       "  'type': 'Point'},\n",
       " 'id': '404694',\n",
       " 'properties': {'category': 'Кино',\n",
       "  'city': 'Москва',\n",
       "  'name': 'Ночь [аниме] кино',\n",
       "  'place': 'Ул.Мясницкая 13, стр.24.',\n",
       "  'times': [1483313400000]},\n",
       " 'type': 'Feature'}"
      ]
     },
     "execution_count": 437,
     "metadata": {},
     "output_type": "execute_result"
    }
   ],
   "source": [
    "chosen_city = 'Москва'\n",
    "chosen_category = 'Кино'\n",
    "# Datetime format: YYYY-MM-DD hh:mm:ss\n",
    "begin_date = datetime(2017, 1, 1, 0, 0, 0) #\"2017-01-01 00:00:00\"\n",
    "end_date = datetime(2017, 10, 31, 0, 0, 0) #\"2017-31-10 00:00:00\"\n",
    "\n",
    "cls = ['city','name','place','category','geometry','times']\n",
    "json_event_all = json.loads(data[(data.city == chosen_city) & \\\n",
    "                                 (data.category == chosen_category) & \\\n",
    "                                 (data.begin >= begin_date) & \\\n",
    "                                 (data.begin <= end_date)][cls].sort_values(by=['times'], ascending=True).to_json())['features']\n",
    "json_event_all[0]"
   ]
  },
  {
   "cell_type": "code",
   "execution_count": 455,
   "metadata": {
    "collapsed": true
   },
   "outputs": [],
   "source": [
    "def draw_animated_events(json_file, start_date, end_date, city, category, frequency):\n",
    "\n",
    "    cls = ['city','name','place','category','geometry','times']\n",
    "    json_file = json.loads(data[(data.city == city) & \\\n",
    "                                     (data.category == category) & \\\n",
    "                                     (data.begin >= begin_date) & \\\n",
    "                                     (data.begin <= end_date)][cls].sort_values(by=['times'], ascending=True).to_json())['features']\n",
    "    \n",
    "    data_to_draw = generate_json(json_file)\n",
    "    m = folium.Map([55.764414, 37.647859], zoom_start=10)\n",
    "    marker_cluster = MarkerCluster().add_to(m)\n",
    "    tgj = TimestampedGeoJson(data_to_draw, \n",
    "                             period=frequency, \n",
    "                             auto_play=False, \n",
    "                             loop=False, \n",
    "                             transition_time = 20,\n",
    "                             #time_slider_drag_update=True\n",
    "                             #loop_button=True, \n",
    "                             #min_speed = 10, \n",
    "                             #max_speed = 10\n",
    "                            )\n",
    "    m.add_child(tgj)\n",
    "    #m\n",
    "    m.save('EiT_'+city+'_'+category+'.html')"
   ]
  },
  {
   "cell_type": "code",
   "execution_count": 460,
   "metadata": {
    "collapsed": true
   },
   "outputs": [],
   "source": [
    "chosen_city = 'Москва'\n",
    "chosen_category = 'Еда'\n",
    "# Datetime format: YYYY-MM-DD hh:mm:ss\n",
    "begin_date = datetime(2015, 1, 1, 0, 0, 0) #\"2017-01-01 00:00:00\"\n",
    "end_date = datetime(2017, 7, 1, 0, 0, 0) #\"2017-31-10 00:00:00\"\n",
    "\n",
    "draw_animated_events(json_event_all, begin_date, end_date, chosen_city, chosen_category, 'P1M')"
   ]
  },
  {
   "cell_type": "code",
   "execution_count": 453,
   "metadata": {},
   "outputs": [
    {
     "data": {
      "text/plain": [
       "{'Бизнес',\n",
       " 'Вечеринки',\n",
       " 'Выставки',\n",
       " 'Гражданские проекты',\n",
       " 'Для детей',\n",
       " 'Другие развлечения',\n",
       " 'Другие события',\n",
       " 'Еда',\n",
       " 'ИТ и интернет',\n",
       " 'Иностранные языки',\n",
       " 'Искусство и культура',\n",
       " 'Кино',\n",
       " 'Концерты',\n",
       " 'Красота и здоровье',\n",
       " 'Образование за рубежом',\n",
       " 'Психология и самопознание',\n",
       " 'Спорт',\n",
       " 'Театры',\n",
       " 'Хобби и творчество',\n",
       " 'Экскурсии и путешествия'}"
      ]
     },
     "execution_count": 453,
     "metadata": {},
     "output_type": "execute_result"
    }
   ],
   "source": [
    "set(data.category)"
   ]
  },
  {
   "cell_type": "markdown",
   "metadata": {},
   "source": [
    "### Heatmap /in Time/ + FeatureGroup"
   ]
  },
  {
   "cell_type": "code",
   "execution_count": 471,
   "metadata": {
    "collapsed": true
   },
   "outputs": [],
   "source": [
    "event = pd.read_csv('D:/event.csv', usecols = ['city', 'begin', 'id', 'name', 'place', 'status',])\n",
    "event_coords = pd.read_csv('event_coo.csv')\n",
    "event_all = pd.merge(event, event_coords, how='left', left_on='id', right_on='event_id')\n",
    "e_event_category = pd.merge(event_all, event_category, how='left', left_on='id', right_on='event')\n",
    "data = pd.merge(e_event_category, category, how='left', left_on='category', right_on='id')"
   ]
  },
  {
   "cell_type": "code",
   "execution_count": 472,
   "metadata": {
    "collapsed": true
   },
   "outputs": [],
   "source": [
    "data = data[(data.status_x == 'ok')]\n",
    "data = data[(data.status_y == 'ok')]\n",
    "data = data[(data.type == 'defaultcategory')]"
   ]
  },
  {
   "cell_type": "code",
   "execution_count": 473,
   "metadata": {
    "collapsed": true
   },
   "outputs": [],
   "source": [
    "data = data.dropna(subset=['id_x','place_lat','place_lon','city'], how='any')"
   ]
  },
  {
   "cell_type": "code",
   "execution_count": 474,
   "metadata": {
    "collapsed": true
   },
   "outputs": [],
   "source": [
    "used_cols = ['begin', 'city', 'id_x', 'name_x', 'place', 'name_y', 'place_lat', 'place_lon']"
   ]
  },
  {
   "cell_type": "code",
   "execution_count": 475,
   "metadata": {
    "collapsed": true
   },
   "outputs": [],
   "source": [
    "data = data[used_cols]\n",
    "data.rename(columns={'id_x':'id', 'name_x':'name', 'name_y':'category'}, inplace=True)"
   ]
  },
  {
   "cell_type": "code",
   "execution_count": 488,
   "metadata": {
    "collapsed": true
   },
   "outputs": [],
   "source": [
    "data['begin'] = data['begin'].map(lambda x: datetime.strptime(x, \"%Y-%m-%d %H:%M:%S\"))"
   ]
  },
  {
   "cell_type": "code",
   "execution_count": 489,
   "metadata": {
    "collapsed": true
   },
   "outputs": [],
   "source": [
    "data['num'] = 1.0/10"
   ]
  },
  {
   "cell_type": "code",
   "execution_count": 495,
   "metadata": {
    "collapsed": true
   },
   "outputs": [],
   "source": [
    "chosen_city = \"Москва\"\n",
    "chosen_category = \"Кино\"\n",
    "begin_date = datetime(2015, 1, 1, 0, 0, 0) #\"2017-01-01 00:00:00\"\n",
    "end_date = datetime(2017, 7, 1, 0, 0, 0) #\"2017-31-10 00:00:00\"\n",
    "\n",
    "def draw_heatmap(data, city, category, begin_date, end_date):\n",
    "    data_heat = data[(data.city == chosen_city) & \\\n",
    "                    (data.category == chosen_category) & \\\n",
    "                    (data.begin >= begin_date) & \\\n",
    "                    (data.begin <= end_date)][['place_lat','place_lon','num']].values.tolist()\n",
    "    m = folium.Map([55.764414, 37.647859], zoom_start=8, tiles='stamentoner')\n",
    "\n",
    "    folium.plugins.HeatMap(data_heat).add_to(m)\n",
    "\n",
    "    m.save('HeatMap_'+city+'_'+category+'.html')"
   ]
  },
  {
   "cell_type": "code",
   "execution_count": 496,
   "metadata": {
    "collapsed": true
   },
   "outputs": [],
   "source": [
    "draw_heatmap(data, chosen_city, chosen_category, begin_date, end_date)"
   ]
  },
  {
   "cell_type": "code",
   "execution_count": null,
   "metadata": {
    "collapsed": true
   },
   "outputs": [],
   "source": []
  }
 ],
 "metadata": {
  "kernelspec": {
   "display_name": "Python 3",
   "language": "python",
   "name": "python3"
  },
  "language_info": {
   "codemirror_mode": {
    "name": "ipython",
    "version": 3
   },
   "file_extension": ".py",
   "mimetype": "text/x-python",
   "name": "python",
   "nbconvert_exporter": "python",
   "pygments_lexer": "ipython3",
   "version": "3.5.2"
  }
 },
 "nbformat": 4,
 "nbformat_minor": 2
}
